{
 "cells": [
  {
   "cell_type": "code",
   "execution_count": 11,
   "metadata": {},
   "outputs": [],
   "source": [
    "import pickle\n",
    "import re\n",
    "import string\n",
    "import os\n",
    "from nltk.corpus import stopwords\n",
    "from nltk.stem.porter import PorterStemmer\n",
    "from sklearn.feature_extraction.text import TfidfVectorizer\n",
    "import PyPDF2\n",
    "import numpy as np"
   ]
  },
  {
   "cell_type": "code",
   "execution_count": 10,
   "metadata": {},
   "outputs": [],
   "source": [
    "ps=PorterStemmer()\n",
    "with open('tfidf_vectorizer.pkl', 'rb') as file:\n",
    "    tfidf = pickle.load(file)"
   ]
  },
  {
   "cell_type": "code",
   "execution_count": 15,
   "metadata": {},
   "outputs": [],
   "source": [
    "with open('tfidf_vectorizer.pkl', 'rb') as file:\n",
    "    tfidf = pickle.load(file)\n",
    "    \n",
    "with open('resume.pkl', 'rb') as file:\n",
    "    rf = pickle.load(file)\n",
    "\n",
    "with open('label_encoder.pkl', 'rb') as file:\n",
    "    labelencoder = pickle.load(file) "
   ]
  },
  {
   "cell_type": "code",
   "execution_count": 28,
   "metadata": {},
   "outputs": [],
   "source": [
    "current_classes = labelencoder.classes_\n",
    "\n",
    "index = np.where(current_classes == \"BUSINESS-DEVELOPMENT\")[0][0]\n",
    "\n",
    "current_classes[index] = \"DATA-SCIENTIST/ANALYST\"\n",
    "\n",
    "labelencoder.classes_ = current_classes\n"
   ]
  },
  {
   "cell_type": "code",
   "execution_count": 31,
   "metadata": {},
   "outputs": [],
   "source": [
    "current_classes = labelencoder.classes_\n",
    "\n",
    "index = np.where(current_classes == \"INFORMATION-TECHNOLOGY\")[0][0]\n",
    "\n",
    "current_classes[index] = \"WEB-DEVELOPMENT\"\n",
    "\n",
    "labelencoder.classes_ = current_classes\n"
   ]
  },
  {
   "cell_type": "code",
   "execution_count": 35,
   "metadata": {},
   "outputs": [],
   "source": [
    "current_classes = labelencoder.classes_\n",
    "\n",
    "index = np.where(current_classes == \"CORE-ENGINEERING\")[0][0]\n",
    "\n",
    "current_classes[index] = \"MECHANICAL/ELECTRICAL ENGINEERING\"\n",
    "\n",
    "labelencoder.classes_ = current_classes\n"
   ]
  },
  {
   "cell_type": "code",
   "execution_count": 36,
   "metadata": {},
   "outputs": [],
   "source": [
    "current_classes = labelencoder.classes_\n",
    "\n",
    "index = np.where(current_classes == \"CONSTRUCTION\")[0][0]\n",
    "\n",
    "current_classes[index] = \"CIVIL-ENGINEERING\"\n",
    "\n",
    "labelencoder.classes_ = current_classes\n"
   ]
  },
  {
   "cell_type": "code",
   "execution_count": 37,
   "metadata": {},
   "outputs": [
    {
     "data": {
      "text/plain": [
       "array(['ACCOUNTANT', 'ADVOCATE', 'AGRICULTURE', 'APPAREL', 'ARTS',\n",
       "       'AUTOMOBILE', 'AVIATION', 'BANKING', 'BPO',\n",
       "       'DATA-SCIENTIST/ANALYST', 'CHEF', 'CIVIL-ENGINEERING',\n",
       "       'CONSULTANT', 'DESIGNER', 'DIGITAL-MEDIA',\n",
       "       'MECHANICAL/ELECTRICAL ENGINEERING', 'FINANCE', 'FITNESS',\n",
       "       'HEALTHCARE', 'HR', 'WEB-DEVELOPMENT', 'PUBLIC-RELATIONS', 'SALES',\n",
       "       'TEACHER'], dtype=object)"
      ]
     },
     "execution_count": 37,
     "metadata": {},
     "output_type": "execute_result"
    }
   ],
   "source": [
    "labelencoder.classes_"
   ]
  },
  {
   "cell_type": "code",
   "execution_count": 6,
   "metadata": {},
   "outputs": [],
   "source": [
    "def preprocess_text(text):\n",
    "    text=text.lower()\n",
    "    \n",
    "    pattern=re.compile('<.*?>')\n",
    "    text=pattern.sub(r'',text)\n",
    "    \n",
    "    pattern=re.compile(r'https?://\\S+|www\\.\\S+')\n",
    "    text= pattern.sub(r'',text)\n",
    "    \n",
    "    text=text.translate(str.maketrans('','',string.punctuation))\n",
    "    \n",
    "    new_text=[]\n",
    "    for words in text.split():\n",
    "        if words in stopwords.words(\"english\"):\n",
    "            new_text.append('')\n",
    "        else:\n",
    "            new_text.append(words)\n",
    "    text=\" \".join(new_text)\n",
    "    \n",
    "    text=\" \".join(ps.stem(word)for word in text.split())\n",
    "    \n",
    "    text = re.sub(r'\\s+', ' ', text).strip()\n",
    "    \n",
    "    return text"
   ]
  },
  {
   "cell_type": "code",
   "execution_count": 12,
   "metadata": {},
   "outputs": [],
   "source": [
    "def pdf_to_text(filepath):\n",
    "    with open(filepath,\"rb\") as file:\n",
    "        reader=PyPDF2.PdfReader(file)\n",
    "        text=\"\"\n",
    "        for page in range(len(reader.pages)):\n",
    "            text+=reader.pages[page].extract_text()\n",
    "    return text        "
   ]
  },
  {
   "cell_type": "code",
   "execution_count": 26,
   "metadata": {},
   "outputs": [],
   "source": [
    "def predict_role(filepath):\n",
    "    text=pdf_to_text(filepath)\n",
    "    text=[text]\n",
    "    text=tfidf.transform(text)\n",
    "    probabilities=rf.predict_proba(text)[0]\n",
    "    top_1_roles=np.argsort(probabilities)\n",
    "    top_1_roles=top_1_roles[-1:]\n",
    "    top_1_roles=np.reshape(top_1_roles,(1,1))\n",
    "    roles=[]\n",
    "    for i in top_1_roles:\n",
    "        roles.append(labelencoder.inverse_transform(i))\n",
    "    roles=np.flip(roles)\n",
    "            \n",
    "    return roles[0][0]"
   ]
  },
  {
   "cell_type": "code",
   "execution_count": 38,
   "metadata": {},
   "outputs": [],
   "source": [
    "def folder_to_file(folder_path):\n",
    "    file_paths=[]\n",
    "    for file_path in os.listdir(folder_path):\n",
    "        file_paths.append(os.path.join(folder_path,file_path))\n",
    "    return file_paths  "
   ]
  },
  {
   "cell_type": "code",
   "execution_count": 58,
   "metadata": {},
   "outputs": [],
   "source": [
    "def screen_resume(folder_path,role,top_n_candidates=5):\n",
    "    role=labelencoder.transform([role])\n",
    "    probabilities_map={}\n",
    "    file_paths=folder_to_file(folder_path)\n",
    "    for file_path in file_paths:\n",
    "      text=pdf_to_text(file_path)\n",
    "      text=preprocess_text(text)\n",
    "      text=[text]\n",
    "      text=tfidf.transform(text)\n",
    "      probabilities=rf.predict_proba(text)[0]\n",
    "      role_probability=probabilities[role]\n",
    "      probabilities_map[file_path]=role_probability\n",
    "    sorted_resumes=sorted(probabilities_map.items(),key=lambda item:item[1],reverse=True)\n",
    "    resume_links = [item[0] for item in sorted_resumes]\n",
    "    return resume_links[:top_n_candidates]"
   ]
  },
  {
   "cell_type": "code",
   "execution_count": 60,
   "metadata": {},
   "outputs": [
    {
     "data": {
      "text/plain": [
       "['c:\\\\Users\\\\hp\\\\Desktop\\\\pdf_paths\\\\My_Resume.pdf',\n",
       " 'c:\\\\Users\\\\hp\\\\Desktop\\\\pdf_paths\\\\9ffde1a4-8d10-44ca-af8d-7dd38fd0c50d (1).pdf',\n",
       " 'c:\\\\Users\\\\hp\\\\Desktop\\\\pdf_paths\\\\Resume 2.pdf']"
      ]
     },
     "execution_count": 60,
     "metadata": {},
     "output_type": "execute_result"
    }
   ],
   "source": [
    "screen_resume(r\"c:\\Users\\hp\\Desktop\\pdf_paths\",\"DATA-SCIENTIST/ANALYST\",3)"
   ]
  },
  {
   "cell_type": "code",
   "execution_count": 61,
   "metadata": {},
   "outputs": [
    {
     "data": {
      "text/plain": [
       "'DATA-SCIENTIST/ANALYST'"
      ]
     },
     "execution_count": 61,
     "metadata": {},
     "output_type": "execute_result"
    }
   ],
   "source": [
    "predict_role(r\"C:\\Users\\hp\\Desktop\\pdf_paths\\Resume 2.pdf\")"
   ]
  },
  {
   "cell_type": "code",
   "execution_count": null,
   "metadata": {},
   "outputs": [],
   "source": []
  },
  {
   "cell_type": "code",
   "execution_count": null,
   "metadata": {},
   "outputs": [],
   "source": []
  },
  {
   "cell_type": "code",
   "execution_count": null,
   "metadata": {},
   "outputs": [],
   "source": []
  }
 ],
 "metadata": {
  "kernelspec": {
   "display_name": "Python 3",
   "language": "python",
   "name": "python3"
  },
  "language_info": {
   "codemirror_mode": {
    "name": "ipython",
    "version": 3
   },
   "file_extension": ".py",
   "mimetype": "text/x-python",
   "name": "python",
   "nbconvert_exporter": "python",
   "pygments_lexer": "ipython3",
   "version": "3.11.9"
  }
 },
 "nbformat": 4,
 "nbformat_minor": 2
}

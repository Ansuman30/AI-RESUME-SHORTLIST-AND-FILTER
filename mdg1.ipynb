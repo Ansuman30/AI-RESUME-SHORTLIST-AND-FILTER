{
 "cells": [
  {
   "cell_type": "code",
   "execution_count": 4,
   "metadata": {},
   "outputs": [],
   "source": [
    "import pandas as pd"
   ]
  },
  {
   "cell_type": "code",
   "execution_count": 5,
   "metadata": {},
   "outputs": [],
   "source": [
    "df=pd.read_csv(r\"C:\\Users\\hp\\Desktop\\Resume.csv\")"
   ]
  },
  {
   "cell_type": "code",
   "execution_count": 6,
   "metadata": {},
   "outputs": [
    {
     "data": {
      "text/html": [
       "<div>\n",
       "<style scoped>\n",
       "    .dataframe tbody tr th:only-of-type {\n",
       "        vertical-align: middle;\n",
       "    }\n",
       "\n",
       "    .dataframe tbody tr th {\n",
       "        vertical-align: top;\n",
       "    }\n",
       "\n",
       "    .dataframe thead th {\n",
       "        text-align: right;\n",
       "    }\n",
       "</style>\n",
       "<table border=\"1\" class=\"dataframe\">\n",
       "  <thead>\n",
       "    <tr style=\"text-align: right;\">\n",
       "      <th></th>\n",
       "      <th>ID</th>\n",
       "      <th>Resume_str</th>\n",
       "      <th>Resume_html</th>\n",
       "      <th>Category</th>\n",
       "    </tr>\n",
       "  </thead>\n",
       "  <tbody>\n",
       "    <tr>\n",
       "      <th>0</th>\n",
       "      <td>16852973</td>\n",
       "      <td>HR ADMINISTRATOR/MARKETING ASSOCIATE\\...</td>\n",
       "      <td>&lt;div class=\"fontsize fontface vmargins hmargin...</td>\n",
       "      <td>HR</td>\n",
       "    </tr>\n",
       "    <tr>\n",
       "      <th>1</th>\n",
       "      <td>22323967</td>\n",
       "      <td>HR SPECIALIST, US HR OPERATIONS      ...</td>\n",
       "      <td>&lt;div class=\"fontsize fontface vmargins hmargin...</td>\n",
       "      <td>HR</td>\n",
       "    </tr>\n",
       "    <tr>\n",
       "      <th>2</th>\n",
       "      <td>33176873</td>\n",
       "      <td>HR DIRECTOR       Summary      Over 2...</td>\n",
       "      <td>&lt;div class=\"fontsize fontface vmargins hmargin...</td>\n",
       "      <td>HR</td>\n",
       "    </tr>\n",
       "    <tr>\n",
       "      <th>3</th>\n",
       "      <td>27018550</td>\n",
       "      <td>HR SPECIALIST       Summary    Dedica...</td>\n",
       "      <td>&lt;div class=\"fontsize fontface vmargins hmargin...</td>\n",
       "      <td>HR</td>\n",
       "    </tr>\n",
       "    <tr>\n",
       "      <th>4</th>\n",
       "      <td>17812897</td>\n",
       "      <td>HR MANAGER         Skill Highlights  ...</td>\n",
       "      <td>&lt;div class=\"fontsize fontface vmargins hmargin...</td>\n",
       "      <td>HR</td>\n",
       "    </tr>\n",
       "  </tbody>\n",
       "</table>\n",
       "</div>"
      ],
      "text/plain": [
       "         ID                                         Resume_str  \\\n",
       "0  16852973           HR ADMINISTRATOR/MARKETING ASSOCIATE\\...   \n",
       "1  22323967           HR SPECIALIST, US HR OPERATIONS      ...   \n",
       "2  33176873           HR DIRECTOR       Summary      Over 2...   \n",
       "3  27018550           HR SPECIALIST       Summary    Dedica...   \n",
       "4  17812897           HR MANAGER         Skill Highlights  ...   \n",
       "\n",
       "                                         Resume_html Category  \n",
       "0  <div class=\"fontsize fontface vmargins hmargin...       HR  \n",
       "1  <div class=\"fontsize fontface vmargins hmargin...       HR  \n",
       "2  <div class=\"fontsize fontface vmargins hmargin...       HR  \n",
       "3  <div class=\"fontsize fontface vmargins hmargin...       HR  \n",
       "4  <div class=\"fontsize fontface vmargins hmargin...       HR  "
      ]
     },
     "execution_count": 6,
     "metadata": {},
     "output_type": "execute_result"
    }
   ],
   "source": [
    "df.head()"
   ]
  },
  {
   "cell_type": "code",
   "execution_count": 7,
   "metadata": {},
   "outputs": [
    {
     "name": "stdout",
     "output_type": "stream",
     "text": [
      "<class 'pandas.core.frame.DataFrame'>\n",
      "RangeIndex: 2484 entries, 0 to 2483\n",
      "Data columns (total 4 columns):\n",
      " #   Column       Non-Null Count  Dtype \n",
      "---  ------       --------------  ----- \n",
      " 0   ID           2484 non-null   int64 \n",
      " 1   Resume_str   2484 non-null   object\n",
      " 2   Resume_html  2484 non-null   object\n",
      " 3   Category     2484 non-null   object\n",
      "dtypes: int64(1), object(3)\n",
      "memory usage: 77.8+ KB\n"
     ]
    }
   ],
   "source": [
    "df.info()"
   ]
  },
  {
   "cell_type": "code",
   "execution_count": 8,
   "metadata": {},
   "outputs": [
    {
     "data": {
      "text/plain": [
       "24"
      ]
     },
     "execution_count": 8,
     "metadata": {},
     "output_type": "execute_result"
    }
   ],
   "source": [
    "len(df[\"Category\"].unique())"
   ]
  },
  {
   "cell_type": "code",
   "execution_count": 9,
   "metadata": {},
   "outputs": [
    {
     "data": {
      "text/plain": [
       "ID             0\n",
       "Resume_str     0\n",
       "Resume_html    0\n",
       "Category       0\n",
       "dtype: int64"
      ]
     },
     "execution_count": 9,
     "metadata": {},
     "output_type": "execute_result"
    }
   ],
   "source": [
    "df.isnull().sum()"
   ]
  },
  {
   "cell_type": "code",
   "execution_count": 11,
   "metadata": {},
   "outputs": [],
   "source": [
    "df=df.drop(columns=[\"ID\",\"Resume_html\"])"
   ]
  },
  {
   "cell_type": "code",
   "execution_count": 12,
   "metadata": {},
   "outputs": [
    {
     "data": {
      "text/plain": [
       "Category\n",
       "INFORMATION-TECHNOLOGY    120\n",
       "BUSINESS-DEVELOPMENT      120\n",
       "FINANCE                   118\n",
       "ADVOCATE                  118\n",
       "ACCOUNTANT                118\n",
       "ENGINEERING               118\n",
       "CHEF                      118\n",
       "AVIATION                  117\n",
       "FITNESS                   117\n",
       "SALES                     116\n",
       "BANKING                   115\n",
       "HEALTHCARE                115\n",
       "CONSULTANT                115\n",
       "CONSTRUCTION              112\n",
       "PUBLIC-RELATIONS          111\n",
       "HR                        110\n",
       "DESIGNER                  107\n",
       "ARTS                      103\n",
       "TEACHER                   102\n",
       "APPAREL                    97\n",
       "DIGITAL-MEDIA              96\n",
       "AGRICULTURE                63\n",
       "AUTOMOBILE                 36\n",
       "BPO                        22\n",
       "Name: count, dtype: int64"
      ]
     },
     "execution_count": 12,
     "metadata": {},
     "output_type": "execute_result"
    }
   ],
   "source": [
    "df[\"Category\"].value_counts()"
   ]
  },
  {
   "cell_type": "code",
   "execution_count": 13,
   "metadata": {},
   "outputs": [],
   "source": [
    "import seaborn as sns\n",
    "import matplotlib.pyplot as plt"
   ]
  },
  {
   "cell_type": "code",
   "execution_count": 14,
   "metadata": {},
   "outputs": [
    {
     "data": {
      "image/png": "[encoded data removed]",
      "text/plain": [
       "<Figure size 640x480 with 1 Axes>"
      ]
     },
     "metadata": {},
     "output_type": "display_data"
    }
   ],
   "source": [
    "sns.countplot(df,x=\"Category\")\n",
    "plt.xticks(rotation=90)  # Rotate labels by 90 degrees\n",
    "plt.show()"
   ]
  },
  {
   "cell_type": "code",
   "execution_count": 15,
   "metadata": {},
   "outputs": [
    {
     "data": {
      "text/html": [
       "<div>\n",
       "<style scoped>\n",
       "    .dataframe tbody tr th:only-of-type {\n",
       "        vertical-align: middle;\n",
       "    }\n",
       "\n",
       "    .dataframe tbody tr th {\n",
       "        vertical-align: top;\n",
       "    }\n",
       "\n",
       "    .dataframe thead th {\n",
       "        text-align: right;\n",
       "    }\n",
       "</style>\n",
       "<table border=\"1\" class=\"dataframe\">\n",
       "  <thead>\n",
       "    <tr style=\"text-align: right;\">\n",
       "      <th></th>\n",
       "      <th>Resume_str</th>\n",
       "      <th>Category</th>\n",
       "    </tr>\n",
       "  </thead>\n",
       "  <tbody>\n",
       "    <tr>\n",
       "      <th>0</th>\n",
       "      <td>HR ADMINISTRATOR/MARKETING ASSOCIATE\\...</td>\n",
       "      <td>HR</td>\n",
       "    </tr>\n",
       "    <tr>\n",
       "      <th>1</th>\n",
       "      <td>HR SPECIALIST, US HR OPERATIONS      ...</td>\n",
       "      <td>HR</td>\n",
       "    </tr>\n",
       "    <tr>\n",
       "      <th>2</th>\n",
       "      <td>HR DIRECTOR       Summary      Over 2...</td>\n",
       "      <td>HR</td>\n",
       "    </tr>\n",
       "    <tr>\n",
       "      <th>3</th>\n",
       "      <td>HR SPECIALIST       Summary    Dedica...</td>\n",
       "      <td>HR</td>\n",
       "    </tr>\n",
       "    <tr>\n",
       "      <th>4</th>\n",
       "      <td>HR MANAGER         Skill Highlights  ...</td>\n",
       "      <td>HR</td>\n",
       "    </tr>\n",
       "  </tbody>\n",
       "</table>\n",
       "</div>"
      ],
      "text/plain": [
       "                                          Resume_str Category\n",
       "0           HR ADMINISTRATOR/MARKETING ASSOCIATE\\...       HR\n",
       "1           HR SPECIALIST, US HR OPERATIONS      ...       HR\n",
       "2           HR DIRECTOR       Summary      Over 2...       HR\n",
       "3           HR SPECIALIST       Summary    Dedica...       HR\n",
       "4           HR MANAGER         Skill Highlights  ...       HR"
      ]
     },
     "execution_count": 15,
     "metadata": {},
     "output_type": "execute_result"
    }
   ],
   "source": [
    "df.head()"
   ]
  },
  {
   "cell_type": "code",
   "execution_count": 16,
   "metadata": {},
   "outputs": [],
   "source": [
    "import re"
   ]
  },
  {
   "cell_type": "code",
   "execution_count": 17,
   "metadata": {},
   "outputs": [],
   "source": [
    "import string"
   ]
  },
  {
   "cell_type": "code",
   "execution_count": 18,
   "metadata": {},
   "outputs": [
    {
     "data": {
      "text/plain": [
       "'!\"#$%&\\'()*+,-./:;<=>?@[\\\\]^_`{|}~'"
      ]
     },
     "execution_count": 18,
     "metadata": {},
     "output_type": "execute_result"
    }
   ],
   "source": [
    "string.punctuation"
   ]
  },
  {
   "cell_type": "code",
   "execution_count": 19,
   "metadata": {},
   "outputs": [],
   "source": [
    "from textblob import TextBlob"
   ]
  },
  {
   "cell_type": "code",
   "execution_count": 20,
   "metadata": {},
   "outputs": [],
   "source": [
    "from nltk.corpus import stopwords"
   ]
  },
  {
   "cell_type": "code",
   "execution_count": 21,
   "metadata": {},
   "outputs": [
    {
     "data": {
      "text/plain": [
       "['i',\n",
       " 'me',\n",
       " 'my',\n",
       " 'myself',\n",
       " 'we',\n",
       " 'our',\n",
       " 'ours',\n",
       " 'ourselves',\n",
       " 'you',\n",
       " \"you're\",\n",
       " \"you've\",\n",
       " \"you'll\",\n",
       " \"you'd\",\n",
       " 'your',\n",
       " 'yours',\n",
       " 'yourself',\n",
       " 'yourselves',\n",
       " 'he',\n",
       " 'him',\n",
       " 'his',\n",
       " 'himself',\n",
       " 'she',\n",
       " \"she's\",\n",
       " 'her',\n",
       " 'hers',\n",
       " 'herself',\n",
       " 'it',\n",
       " \"it's\",\n",
       " 'its',\n",
       " 'itself',\n",
       " 'they',\n",
       " 'them',\n",
       " 'their',\n",
       " 'theirs',\n",
       " 'themselves',\n",
       " 'what',\n",
       " 'which',\n",
       " 'who',\n",
       " 'whom',\n",
       " 'this',\n",
       " 'that',\n",
       " \"that'll\",\n",
       " 'these',\n",
       " 'those',\n",
       " 'am',\n",
       " 'is',\n",
       " 'are',\n",
       " 'was',\n",
       " 'were',\n",
       " 'be',\n",
       " 'been',\n",
       " 'being',\n",
       " 'have',\n",
       " 'has',\n",
       " 'had',\n",
       " 'having',\n",
       " 'do',\n",
       " 'does',\n",
       " 'did',\n",
       " 'doing',\n",
       " 'a',\n",
       " 'an',\n",
       " 'the',\n",
       " 'and',\n",
       " 'but',\n",
       " 'if',\n",
       " 'or',\n",
       " 'because',\n",
       " 'as',\n",
       " 'until',\n",
       " 'while',\n",
       " 'of',\n",
       " 'at',\n",
       " 'by',\n",
       " 'for',\n",
       " 'with',\n",
       " 'about',\n",
       " 'against',\n",
       " 'between',\n",
       " 'into',\n",
       " 'through',\n",
       " 'during',\n",
       " 'before',\n",
       " 'after',\n",
       " 'above',\n",
       " 'below',\n",
       " 'to',\n",
       " 'from',\n",
       " 'up',\n",
       " 'down',\n",
       " 'in',\n",
       " 'out',\n",
       " 'on',\n",
       " 'off',\n",
       " 'over',\n",
       " 'under',\n",
       " 'again',\n",
       " 'further',\n",
       " 'then',\n",
       " 'once',\n",
       " 'here',\n",
       " 'there',\n",
       " 'when',\n",
       " 'where',\n",
       " 'why',\n",
       " 'how',\n",
       " 'all',\n",
       " 'any',\n",
       " 'both',\n",
       " 'each',\n",
       " 'few',\n",
       " 'more',\n",
       " 'most',\n",
       " 'other',\n",
       " 'some',\n",
       " 'such',\n",
       " 'no',\n",
       " 'nor',\n",
       " 'not',\n",
       " 'only',\n",
       " 'own',\n",
       " 'same',\n",
       " 'so',\n",
       " 'than',\n",
       " 'too',\n",
       " 'very',\n",
       " 's',\n",
       " 't',\n",
       " 'can',\n",
       " 'will',\n",
       " 'just',\n",
       " 'don',\n",
       " \"don't\",\n",
       " 'should',\n",
       " \"should've\",\n",
       " 'now',\n",
       " 'd',\n",
       " 'll',\n",
       " 'm',\n",
       " 'o',\n",
       " 're',\n",
       " 've',\n",
       " 'y',\n",
       " 'ain',\n",
       " 'aren',\n",
       " \"aren't\",\n",
       " 'couldn',\n",
       " \"couldn't\",\n",
       " 'didn',\n",
       " \"didn't\",\n",
       " 'doesn',\n",
       " \"doesn't\",\n",
       " 'hadn',\n",
       " \"hadn't\",\n",
       " 'hasn',\n",
       " \"hasn't\",\n",
       " 'haven',\n",
       " \"haven't\",\n",
       " 'isn',\n",
       " \"isn't\",\n",
       " 'ma',\n",
       " 'mightn',\n",
       " \"mightn't\",\n",
       " 'mustn',\n",
       " \"mustn't\",\n",
       " 'needn',\n",
       " \"needn't\",\n",
       " 'shan',\n",
       " \"shan't\",\n",
       " 'shouldn',\n",
       " \"shouldn't\",\n",
       " 'wasn',\n",
       " \"wasn't\",\n",
       " 'weren',\n",
       " \"weren't\",\n",
       " 'won',\n",
       " \"won't\",\n",
       " 'wouldn',\n",
       " \"wouldn't\"]"
      ]
     },
     "execution_count": 21,
     "metadata": {},
     "output_type": "execute_result"
    }
   ],
   "source": [
    "stopwords.words(\"english\")"
   ]
  },
  {
   "cell_type": "code",
   "execution_count": 23,
   "metadata": {},
   "outputs": [],
   "source": [
    "from nltk.stem.porter import PorterStemmer\n",
    "ps=PorterStemmer()"
   ]
  },
  {
   "cell_type": "code",
   "execution_count": 24,
   "metadata": {},
   "outputs": [],
   "source": [
    "def preprocess_text(text):\n",
    "    text=text.lower()\n",
    "    \n",
    "    pattern=re.compile('<.*?>')\n",
    "    text=pattern.sub(r'',text)\n",
    "    \n",
    "    pattern=re.compile(r'https?://\\S+|www\\.\\S+')\n",
    "    text= pattern.sub(r'',text)\n",
    "    \n",
    "    text=text.translate(str.maketrans('','',string.punctuation))\n",
    "    \n",
    "    #txtblob=TextBlob(text)\n",
    "    #text=txtblob.correct().string\n",
    "    \n",
    "    new_text=[]\n",
    "    for words in text.split():\n",
    "        if words in stopwords.words(\"english\"):\n",
    "            new_text.append('')\n",
    "        else:\n",
    "            new_text.append(words)\n",
    "    text=\" \".join(new_text)\n",
    "    \n",
    "    text=\" \".join(ps.stem(word)for word in text.split())\n",
    "    \n",
    "    text = re.sub(r'\\s+', ' ', text).strip()\n",
    "    \n",
    "    return text"
   ]
  },
  {
   "cell_type": "code",
   "execution_count": 25,
   "metadata": {},
   "outputs": [
    {
     "data": {
      "text/plain": [
       "'criket'"
      ]
     },
     "execution_count": 25,
     "metadata": {},
     "output_type": "execute_result"
    }
   ],
   "source": [
    "preprocess_text(\"I am the criketer\")"
   ]
  },
  {
   "cell_type": "code",
   "execution_count": 26,
   "metadata": {},
   "outputs": [],
   "source": [
    "df[\"Resume_str\"]=df[\"Resume_str\"].apply(preprocess_text)"
   ]
  },
  {
   "cell_type": "code",
   "execution_count": 28,
   "metadata": {},
   "outputs": [
    {
     "data": {
      "text/plain": [
       "0       hr administratormarket associ hr administr sum...\n",
       "1       hr specialist us hr oper summari versatil medi...\n",
       "2       hr director summari 20 year experi recruit 15 ...\n",
       "3       hr specialist summari dedic driven dynam 20 ye...\n",
       "4       hr manag skill highlight hr skill hr depart st...\n",
       "                              ...                        \n",
       "2479    rank sgte5 non commiss offic charg brigad mail...\n",
       "2480    govern relat commun organiz develop director p...\n",
       "2481    geek squad agent profession profil support spe...\n",
       "2482    program director offic manag summari highli pe...\n",
       "2483    storekeep ii profession summari purpos documen...\n",
       "Name: Resume_str, Length: 2484, dtype: object"
      ]
     },
     "execution_count": 28,
     "metadata": {},
     "output_type": "execute_result"
    }
   ],
   "source": [
    "df[\"Resume_str\"]"
   ]
  },
  {
   "cell_type": "code",
   "execution_count": 29,
   "metadata": {},
   "outputs": [
    {
     "data": {
      "text/plain": [
       "'hr manag summari human resourc manag extens background administr duti includ experi implement staff develop train mediat conflict resolut benefit compens train hr record manag hr polici develop legal complianc demonstr success develop teambuild program write personnel manual coordin special program job descript onlin state mandat train highlight univers eventsspeci program prepar agenda fmlaadaeeowc mediat advocaci hri technolog tesol teacher univers staff employe relat web design use reddot sharepoint hr programproject manag microsoft offic suit orient onboard train develop perform manag organiz develop hr polici procedur publisherindesignquark accomplish enjoy 5k runswalk note profession develop complet ongo train area compens benefit employe labor relat leav absenc custom servic supervisori train workplac safetysecur creat public advertis twu thehra confer invit guest speaker staff develop day twu houston campu sever affili confer develop onlin state mandat train twu employe experi hr manag 012007 current compani name citi state perform profession administr work involv develop administr coordin comprehens seri train develop opportun univers staff faculti work perform consider independ judgment wide latitud limit supervis director human resourc profession servic key result perform profession administr work involv develop administr coordin comprehens seri train develop opportun univers staff faculti implement tesol program teach english speaker languag conduct exit interview staff employe develop procedur resolv problem discov exit interview respons implement mainten train staff perform evalu system coordin servic award staff award retir recognit program respons coordin new employe orient maintain calendar plan schedul special event train schedul new employe orient schedul web spinner human resourc newslett use reddot sharepoint respons establish job standard subordin staff effect evalu staff charg manag priorit addit task assign associ vice presid hr repres iii 012001 012007 compani name citi state promot fulfil broad rang hr function includ train employe newli implement peoplesoft time labor modul administ fmla program manag hr record key result train 250 time keeper time keep techniqu best practic conduct workshop oneonon coach session contribut success implement peoplesoft leadership develop train faculti staff translat facilit train spanish design refin cours materi need specif depart assist coordin special programsev restaur manag trainer 011993 012001 compani name citi state respons overal busi perform manag restaur train new employe key result encourag guest satisfact special event respons hire train wait staff bar staff kitchen staff translat facilit train spanish design refin train materi need specif area assist maintain qualiti standard food health servic safeti educ bachelor scienc bs sociolog 1999 texa woman univers citi state sociolog affili societi human resourc manag shrm north texa societi human resourc manag ntshrm texa higher educ human resourc associ thehra intern tefl tesol train membership ittt denton high school girl softbal associ skill ada administr skill administr coach employe relat train employe english special event hire hri human resourc hr indesign leadership develop director manag mediat microsoft offic suit publish sharepoint newslett organiz develop peoplesoft perform manag polici project manag qualiti quark manag restaur safeti schedul spanish supervis teacher teach train materi web design workshop'"
      ]
     },
     "execution_count": 29,
     "metadata": {},
     "output_type": "execute_result"
    }
   ],
   "source": [
    "df[\"Resume_str\"][6]"
   ]
  },
  {
   "cell_type": "code",
   "execution_count": 30,
   "metadata": {},
   "outputs": [
    {
     "data": {
      "text/html": [
       "<div>\n",
       "<style scoped>\n",
       "    .dataframe tbody tr th:only-of-type {\n",
       "        vertical-align: middle;\n",
       "    }\n",
       "\n",
       "    .dataframe tbody tr th {\n",
       "        vertical-align: top;\n",
       "    }\n",
       "\n",
       "    .dataframe thead th {\n",
       "        text-align: right;\n",
       "    }\n",
       "</style>\n",
       "<table border=\"1\" class=\"dataframe\">\n",
       "  <thead>\n",
       "    <tr style=\"text-align: right;\">\n",
       "      <th></th>\n",
       "      <th>Resume_str</th>\n",
       "      <th>Category</th>\n",
       "    </tr>\n",
       "  </thead>\n",
       "  <tbody>\n",
       "    <tr>\n",
       "      <th>0</th>\n",
       "      <td>hr administratormarket associ hr administr sum...</td>\n",
       "      <td>HR</td>\n",
       "    </tr>\n",
       "    <tr>\n",
       "      <th>1</th>\n",
       "      <td>hr specialist us hr oper summari versatil medi...</td>\n",
       "      <td>HR</td>\n",
       "    </tr>\n",
       "    <tr>\n",
       "      <th>2</th>\n",
       "      <td>hr director summari 20 year experi recruit 15 ...</td>\n",
       "      <td>HR</td>\n",
       "    </tr>\n",
       "    <tr>\n",
       "      <th>3</th>\n",
       "      <td>hr specialist summari dedic driven dynam 20 ye...</td>\n",
       "      <td>HR</td>\n",
       "    </tr>\n",
       "    <tr>\n",
       "      <th>4</th>\n",
       "      <td>hr manag skill highlight hr skill hr depart st...</td>\n",
       "      <td>HR</td>\n",
       "    </tr>\n",
       "  </tbody>\n",
       "</table>\n",
       "</div>"
      ],
      "text/plain": [
       "                                          Resume_str Category\n",
       "0  hr administratormarket associ hr administr sum...       HR\n",
       "1  hr specialist us hr oper summari versatil medi...       HR\n",
       "2  hr director summari 20 year experi recruit 15 ...       HR\n",
       "3  hr specialist summari dedic driven dynam 20 ye...       HR\n",
       "4  hr manag skill highlight hr skill hr depart st...       HR"
      ]
     },
     "execution_count": 30,
     "metadata": {},
     "output_type": "execute_result"
    }
   ],
   "source": [
    "df.head()"
   ]
  },
  {
   "cell_type": "code",
   "execution_count": 324,
   "metadata": {},
   "outputs": [
    {
     "name": "stdout",
     "output_type": "stream",
     "text": [
      "<class 'pandas.core.frame.DataFrame'>\n",
      "Index: 2880 entries, 102 to 2475\n",
      "Data columns (total 2 columns):\n",
      " #   Column      Non-Null Count  Dtype \n",
      "---  ------      --------------  ----- \n",
      " 0   Resume_str  2880 non-null   object\n",
      " 1   Category    2880 non-null   int32 \n",
      "dtypes: int32(1), object(1)\n",
      "memory usage: 56.2+ KB\n"
     ]
    }
   ],
   "source": [
    "df.info()"
   ]
  },
  {
   "cell_type": "code",
   "execution_count": 32,
   "metadata": {},
   "outputs": [],
   "source": [
    "from sklearn.preprocessing import LabelEncoder"
   ]
  },
  {
   "cell_type": "code",
   "execution_count": 33,
   "metadata": {},
   "outputs": [],
   "source": [
    "labelencoder=LabelEncoder()\n",
    "df[\"Category\"]=labelencoder.fit_transform(df[\"Category\"])"
   ]
  },
  {
   "cell_type": "code",
   "execution_count": 323,
   "metadata": {},
   "outputs": [
    {
     "data": {
      "text/html": [
       "<div>\n",
       "<style scoped>\n",
       "    .dataframe tbody tr th:only-of-type {\n",
       "        vertical-align: middle;\n",
       "    }\n",
       "\n",
       "    .dataframe tbody tr th {\n",
       "        vertical-align: top;\n",
       "    }\n",
       "\n",
       "    .dataframe thead th {\n",
       "        text-align: right;\n",
       "    }\n",
       "</style>\n",
       "<table border=\"1\" class=\"dataframe\">\n",
       "  <thead>\n",
       "    <tr style=\"text-align: right;\">\n",
       "      <th></th>\n",
       "      <th>Resume_str</th>\n",
       "      <th>Category</th>\n",
       "    </tr>\n",
       "  </thead>\n",
       "  <tbody>\n",
       "    <tr>\n",
       "      <th>102</th>\n",
       "      <td>hr personnel assist summari us citizen author ...</td>\n",
       "      <td>19</td>\n",
       "    </tr>\n",
       "    <tr>\n",
       "      <th>51</th>\n",
       "      <td>hr assist summari hard worker dedic detail ori...</td>\n",
       "      <td>19</td>\n",
       "    </tr>\n",
       "    <tr>\n",
       "      <th>92</th>\n",
       "      <td>global hr manag summari global hr profession 1...</td>\n",
       "      <td>19</td>\n",
       "    </tr>\n",
       "    <tr>\n",
       "      <th>14</th>\n",
       "      <td>hr coordin summari applic screen background ch...</td>\n",
       "      <td>19</td>\n",
       "    </tr>\n",
       "    <tr>\n",
       "      <th>106</th>\n",
       "      <td>design hr assist profession summari human reso...</td>\n",
       "      <td>19</td>\n",
       "    </tr>\n",
       "  </tbody>\n",
       "</table>\n",
       "</div>"
      ],
      "text/plain": [
       "                                            Resume_str  Category\n",
       "102  hr personnel assist summari us citizen author ...        19\n",
       "51   hr assist summari hard worker dedic detail ori...        19\n",
       "92   global hr manag summari global hr profession 1...        19\n",
       "14   hr coordin summari applic screen background ch...        19\n",
       "106  design hr assist profession summari human reso...        19"
      ]
     },
     "execution_count": 323,
     "metadata": {},
     "output_type": "execute_result"
    }
   ],
   "source": [
    "df.head()"
   ]
  },
  {
   "cell_type": "code",
   "execution_count": 80,
   "metadata": {},
   "outputs": [],
   "source": [
    "from sklearn.utils import resample\n",
    "\n",
    "max_count = df['Category'].value_counts().max()\n",
    "\n",
    "\n",
    "balanced_data = []\n",
    "\n",
    "for category in df['Category'].unique():\n",
    "    category_data = df[df['Category'] == category]\n",
    "    balanced_category_data = resample(category_data, replace=True, n_samples=max_count, random_state=42)\n",
    "    balanced_data.append(balanced_category_data)\n",
    "\n",
    "df = pd.concat(balanced_data)"
   ]
  },
  {
   "cell_type": "code",
   "execution_count": 82,
   "metadata": {},
   "outputs": [
    {
     "data": {
      "text/plain": [
       "Category\n",
       "19    120\n",
       "13    120\n",
       "4     120\n",
       "7     120\n",
       "21    120\n",
       "11    120\n",
       "0     120\n",
       "15    120\n",
       "3     120\n",
       "16    120\n",
       "10    120\n",
       "5     120\n",
       "14    120\n",
       "12    120\n",
       "22    120\n",
       "8     120\n",
       "2     120\n",
       "17    120\n",
       "18    120\n",
       "9     120\n",
       "1     120\n",
       "23    120\n",
       "20    120\n",
       "6     120\n",
       "Name: count, dtype: int64"
      ]
     },
     "execution_count": 82,
     "metadata": {},
     "output_type": "execute_result"
    }
   ],
   "source": [
    "df[\"Category\"].value_counts()"
   ]
  },
  {
   "cell_type": "code",
   "execution_count": 312,
   "metadata": {},
   "outputs": [
    {
     "data": {
      "text/plain": [
       "'data analyst profession summari industri system engin graduat certifi base sa programm lean six sigma green belt strong background statist mathemat logic problem solv look dynam opportun data driven field analyt statist model core qualif data scienc tool r base sa python numpi panda matplotlib scikit learn spss minitab matlab apach spark sql ms excel ms visio tableau mysql oracl databas microsoft access key compet data extract data wrangl data analysi data visual regress analysi linear logist multinomi time seri analysi associ rule mine mont carlo simul optim random forest experi 072016 current data analyst compani name － state 092015 052016 student manag compani name － state undertook leadership advisori role train newcom hone culinari behavior skill project classif custom credit card compani jan 2016 \\xad may 2016 perform logist regress credit card compani dataset classifi client credibl noncred extract crucial factor simplifi classif model use exploratori factor analysi develop valid model classifi futur custom aid decisionmak simul analysi ad second park ticket booth mall aug 2015 \\xad dec 2015 assess distribut trend incom custom pattern perform statist analysi matlab expertfit addit booth model use arena reduc averag wait time per custom 62 minut 18 minut statist analysi defect clutch plate manufactur six sigma studi jan 2015 \\xad may 2015 dmaic methodolog defin measur analyz improv control implement understand caus defect data statist analyz help control chart use minitab 062013 072013 intern compani name identifi area assembl line light commerci vehicl oper could hous develop detail model improv layout accommod oper use autocad improv space util 300 consult selfstorag compani classifi custom worthi worthi base activ compani websit use random forest algorithm built model r model deploy use python current build reserv model public storag forecast custom would reserv storag educ aug 2016 master scienc industri system engin binghamton univers state univers new york industri system engin 351400 may 2014 bachelor engin mechan engin osmania univers mechan engin 333400 skill apach autocad chart credit client data analysi data visual databas dec decisionmak layout leadership matlab microsoft access ms excel minitab mysql optim oracl databas python sa simul six sigma spss sql statist analysi tableau visio websit'"
      ]
     },
     "execution_count": 312,
     "metadata": {},
     "output_type": "execute_result"
    }
   ],
   "source": [
    "df[df[\"Category\"]==5][\"Resume_str\"].iloc[4]"
   ]
  },
  {
   "cell_type": "code",
   "execution_count": 84,
   "metadata": {},
   "outputs": [],
   "source": [
    "from sklearn.feature_extraction.text import TfidfVectorizer"
   ]
  },
  {
   "cell_type": "code",
   "execution_count": 85,
   "metadata": {},
   "outputs": [],
   "source": [
    "tfidf=TfidfVectorizer()"
   ]
  },
  {
   "cell_type": "code",
   "execution_count": 86,
   "metadata": {},
   "outputs": [],
   "source": [
    "from sklearn.model_selection import train_test_split"
   ]
  },
  {
   "cell_type": "code",
   "execution_count": 87,
   "metadata": {},
   "outputs": [],
   "source": [
    "X_train,X_test,y_train,y_test=train_test_split(df[\"Resume_str\"],df[\"Category\"],test_size=0.2)"
   ]
  },
  {
   "cell_type": "code",
   "execution_count": 88,
   "metadata": {},
   "outputs": [
    {
     "data": {
      "text/plain": [
       "((2304,), (576,), (2304,), (576,))"
      ]
     },
     "execution_count": 88,
     "metadata": {},
     "output_type": "execute_result"
    }
   ],
   "source": [
    "X_train.shape,X_test.shape,y_train.shape,y_test.shape"
   ]
  },
  {
   "cell_type": "code",
   "execution_count": 89,
   "metadata": {},
   "outputs": [],
   "source": [
    "tfidf_X_train=tfidf.fit_transform(X_train).toarray()\n",
    "tfidf_X_test=tfidf.transform(X_test).toarray()"
   ]
  },
  {
   "cell_type": "code",
   "execution_count": 90,
   "metadata": {},
   "outputs": [
    {
     "data": {
      "text/plain": [
       "(30548, 30548)"
      ]
     },
     "execution_count": 90,
     "metadata": {},
     "output_type": "execute_result"
    }
   ],
   "source": [
    "len(tfidf_X_train[0]),len(tfidf_X_test[0])"
   ]
  },
  {
   "cell_type": "code",
   "execution_count": 91,
   "metadata": {},
   "outputs": [
    {
     "data": {
      "text/plain": [
       "array([[0., 0., 0., ..., 0., 0., 0.],\n",
       "       [0., 0., 0., ..., 0., 0., 0.],\n",
       "       [0., 0., 0., ..., 0., 0., 0.],\n",
       "       ...,\n",
       "       [0., 0., 0., ..., 0., 0., 0.],\n",
       "       [0., 0., 0., ..., 0., 0., 0.],\n",
       "       [0., 0., 0., ..., 0., 0., 0.]])"
      ]
     },
     "execution_count": 91,
     "metadata": {},
     "output_type": "execute_result"
    }
   ],
   "source": [
    "tfidf_X_test"
   ]
  },
  {
   "cell_type": "code",
   "execution_count": 92,
   "metadata": {},
   "outputs": [
    {
     "data": {
      "text/plain": [
       "1163    12\n",
       "1355     5\n",
       "50      19\n",
       "519      1\n",
       "2020    11\n",
       "        ..\n",
       "598      9\n",
       "1898     0\n",
       "1997    11\n",
       "1600     3\n",
       "1868     0\n",
       "Name: Category, Length: 576, dtype: int32"
      ]
     },
     "execution_count": 92,
     "metadata": {},
     "output_type": "execute_result"
    }
   ],
   "source": [
    "y_test"
   ]
  },
  {
   "cell_type": "code",
   "execution_count": 93,
   "metadata": {},
   "outputs": [
    {
     "data": {
      "text/plain": [
       "array(['00', '000', '001', ..., 'µpg', 'école', 'òwaterfalló'],\n",
       "      dtype=object)"
      ]
     },
     "execution_count": 93,
     "metadata": {},
     "output_type": "execute_result"
    }
   ],
   "source": [
    "tfidf.get_feature_names_out()\n"
   ]
  },
  {
   "cell_type": "code",
   "execution_count": 94,
   "metadata": {},
   "outputs": [],
   "source": [
    "from sklearn.ensemble import RandomForestClassifier\n",
    "rf=RandomForestClassifier()"
   ]
  },
  {
   "cell_type": "code",
   "execution_count": 95,
   "metadata": {},
   "outputs": [
    {
     "data": {
      "text/html": [
       "<style>#sk-container-id-3 {color: black;}#sk-container-id-3 pre{padding: 0;}#sk-container-id-3 div.sk-toggleable {background-color: white;}#sk-container-id-3 label.sk-toggleable__label {cursor: pointer;display: block;width: 100%;margin-bottom: 0;padding: 0.3em;box-sizing: border-box;text-align: center;}#sk-container-id-3 label.sk-toggleable__label-arrow:before {content: \"▸\";float: left;margin-right: 0.25em;color: #696969;}#sk-container-id-3 label.sk-toggleable__label-arrow:hover:before {color: black;}#sk-container-id-3 div.sk-estimator:hover label.sk-toggleable__label-arrow:before {color: black;}#sk-container-id-3 div.sk-toggleable__content {max-height: 0;max-width: 0;overflow: hidden;text-align: left;background-color: #f0f8ff;}#sk-container-id-3 div.sk-toggleable__content pre {margin: 0.2em;color: black;border-radius: 0.25em;background-color: #f0f8ff;}#sk-container-id-3 input.sk-toggleable__control:checked~div.sk-toggleable__content {max-height: 200px;max-width: 100%;overflow: auto;}#sk-container-id-3 input.sk-toggleable__control:checked~label.sk-toggleable__label-arrow:before {content: \"▾\";}#sk-container-id-3 div.sk-estimator input.sk-toggleable__control:checked~label.sk-toggleable__label {background-color: #d4ebff;}#sk-container-id-3 div.sk-label input.sk-toggleable__control:checked~label.sk-toggleable__label {background-color: #d4ebff;}#sk-container-id-3 input.sk-hidden--visually {border: 0;clip: rect(1px 1px 1px 1px);clip: rect(1px, 1px, 1px, 1px);height: 1px;margin: -1px;overflow: hidden;padding: 0;position: absolute;width: 1px;}#sk-container-id-3 div.sk-estimator {font-family: monospace;background-color: #f0f8ff;border: 1px dotted black;border-radius: 0.25em;box-sizing: border-box;margin-bottom: 0.5em;}#sk-container-id-3 div.sk-estimator:hover {background-color: #d4ebff;}#sk-container-id-3 div.sk-parallel-item::after {content: \"\";width: 100%;border-bottom: 1px solid gray;flex-grow: 1;}#sk-container-id-3 div.sk-label:hover label.sk-toggleable__label {background-color: #d4ebff;}#sk-container-id-3 div.sk-serial::before {content: \"\";position: absolute;border-left: 1px solid gray;box-sizing: border-box;top: 0;bottom: 0;left: 50%;z-index: 0;}#sk-container-id-3 div.sk-serial {display: flex;flex-direction: column;align-items: center;background-color: white;padding-right: 0.2em;padding-left: 0.2em;position: relative;}#sk-container-id-3 div.sk-item {position: relative;z-index: 1;}#sk-container-id-3 div.sk-parallel {display: flex;align-items: stretch;justify-content: center;background-color: white;position: relative;}#sk-container-id-3 div.sk-item::before, #sk-container-id-3 div.sk-parallel-item::before {content: \"\";position: absolute;border-left: 1px solid gray;box-sizing: border-box;top: 0;bottom: 0;left: 50%;z-index: -1;}#sk-container-id-3 div.sk-parallel-item {display: flex;flex-direction: column;z-index: 1;position: relative;background-color: white;}#sk-container-id-3 div.sk-parallel-item:first-child::after {align-self: flex-end;width: 50%;}#sk-container-id-3 div.sk-parallel-item:last-child::after {align-self: flex-start;width: 50%;}#sk-container-id-3 div.sk-parallel-item:only-child::after {width: 0;}#sk-container-id-3 div.sk-dashed-wrapped {border: 1px dashed gray;margin: 0 0.4em 0.5em 0.4em;box-sizing: border-box;padding-bottom: 0.4em;background-color: white;}#sk-container-id-3 div.sk-label label {font-family: monospace;font-weight: bold;display: inline-block;line-height: 1.2em;}#sk-container-id-3 div.sk-label-container {text-align: center;}#sk-container-id-3 div.sk-container {/* jupyter's `normalize.less` sets `[hidden] { display: none; }` but bootstrap.min.css set `[hidden] { display: none !important; }` so we also need the `!important` here to be able to override the default hidden behavior on the sphinx rendered scikit-learn.org. See: https://github.com/scikit-learn/scikit-learn/issues/21755 */display: inline-block !important;position: relative;}#sk-container-id-3 div.sk-text-repr-fallback {display: none;}</style><div id=\"sk-container-id-3\" class=\"sk-top-container\"><div class=\"sk-text-repr-fallback\"><pre>RandomForestClassifier()</pre><b>In a Jupyter environment, please rerun this cell to show the HTML representation or trust the notebook. <br />On GitHub, the HTML representation is unable to render, please try loading this page with nbviewer.org.</b></div><div class=\"sk-container\" hidden><div class=\"sk-item\"><div class=\"sk-estimator sk-toggleable\"><input class=\"sk-toggleable__control sk-hidden--visually\" id=\"sk-estimator-id-3\" type=\"checkbox\" checked><label for=\"sk-estimator-id-3\" class=\"sk-toggleable__label sk-toggleable__label-arrow\">RandomForestClassifier</label><div class=\"sk-toggleable__content\"><pre>RandomForestClassifier()</pre></div></div></div></div></div>"
      ],
      "text/plain": [
       "RandomForestClassifier()"
      ]
     },
     "execution_count": 95,
     "metadata": {},
     "output_type": "execute_result"
    }
   ],
   "source": [
    "rf.fit(tfidf_X_train,y_train)"
   ]
  },
  {
   "cell_type": "code",
   "execution_count": 96,
   "metadata": {},
   "outputs": [],
   "source": [
    "y_pred=rf.predict(tfidf_X_test)"
   ]
  },
  {
   "cell_type": "code",
   "execution_count": 97,
   "metadata": {},
   "outputs": [
    {
     "data": {
      "text/plain": [
       "(576,)"
      ]
     },
     "execution_count": 97,
     "metadata": {},
     "output_type": "execute_result"
    }
   ],
   "source": [
    "y_pred.shape"
   ]
  },
  {
   "cell_type": "code",
   "execution_count": 98,
   "metadata": {},
   "outputs": [
    {
     "data": {
      "text/plain": [
       "0.8541666666666666"
      ]
     },
     "execution_count": 98,
     "metadata": {},
     "output_type": "execute_result"
    }
   ],
   "source": [
    "from sklearn.metrics import accuracy_score\n",
    "accuracy_score(y_pred,y_test)"
   ]
  },
  {
   "cell_type": "code",
   "execution_count": 99,
   "metadata": {},
   "outputs": [],
   "source": [
    "from sklearn.svm import SVC"
   ]
  },
  {
   "cell_type": "code",
   "execution_count": 100,
   "metadata": {},
   "outputs": [],
   "source": [
    "svm=SVC(kernel=\"linear\")"
   ]
  },
  {
   "cell_type": "code",
   "execution_count": 101,
   "metadata": {},
   "outputs": [
    {
     "data": {
      "text/html": [
       "<style>#sk-container-id-4 {color: black;}#sk-container-id-4 pre{padding: 0;}#sk-container-id-4 div.sk-toggleable {background-color: white;}#sk-container-id-4 label.sk-toggleable__label {cursor: pointer;display: block;width: 100%;margin-bottom: 0;padding: 0.3em;box-sizing: border-box;text-align: center;}#sk-container-id-4 label.sk-toggleable__label-arrow:before {content: \"▸\";float: left;margin-right: 0.25em;color: #696969;}#sk-container-id-4 label.sk-toggleable__label-arrow:hover:before {color: black;}#sk-container-id-4 div.sk-estimator:hover label.sk-toggleable__label-arrow:before {color: black;}#sk-container-id-4 div.sk-toggleable__content {max-height: 0;max-width: 0;overflow: hidden;text-align: left;background-color: #f0f8ff;}#sk-container-id-4 div.sk-toggleable__content pre {margin: 0.2em;color: black;border-radius: 0.25em;background-color: #f0f8ff;}#sk-container-id-4 input.sk-toggleable__control:checked~div.sk-toggleable__content {max-height: 200px;max-width: 100%;overflow: auto;}#sk-container-id-4 input.sk-toggleable__control:checked~label.sk-toggleable__label-arrow:before {content: \"▾\";}#sk-container-id-4 div.sk-estimator input.sk-toggleable__control:checked~label.sk-toggleable__label {background-color: #d4ebff;}#sk-container-id-4 div.sk-label input.sk-toggleable__control:checked~label.sk-toggleable__label {background-color: #d4ebff;}#sk-container-id-4 input.sk-hidden--visually {border: 0;clip: rect(1px 1px 1px 1px);clip: rect(1px, 1px, 1px, 1px);height: 1px;margin: -1px;overflow: hidden;padding: 0;position: absolute;width: 1px;}#sk-container-id-4 div.sk-estimator {font-family: monospace;background-color: #f0f8ff;border: 1px dotted black;border-radius: 0.25em;box-sizing: border-box;margin-bottom: 0.5em;}#sk-container-id-4 div.sk-estimator:hover {background-color: #d4ebff;}#sk-container-id-4 div.sk-parallel-item::after {content: \"\";width: 100%;border-bottom: 1px solid gray;flex-grow: 1;}#sk-container-id-4 div.sk-label:hover label.sk-toggleable__label {background-color: #d4ebff;}#sk-container-id-4 div.sk-serial::before {content: \"\";position: absolute;border-left: 1px solid gray;box-sizing: border-box;top: 0;bottom: 0;left: 50%;z-index: 0;}#sk-container-id-4 div.sk-serial {display: flex;flex-direction: column;align-items: center;background-color: white;padding-right: 0.2em;padding-left: 0.2em;position: relative;}#sk-container-id-4 div.sk-item {position: relative;z-index: 1;}#sk-container-id-4 div.sk-parallel {display: flex;align-items: stretch;justify-content: center;background-color: white;position: relative;}#sk-container-id-4 div.sk-item::before, #sk-container-id-4 div.sk-parallel-item::before {content: \"\";position: absolute;border-left: 1px solid gray;box-sizing: border-box;top: 0;bottom: 0;left: 50%;z-index: -1;}#sk-container-id-4 div.sk-parallel-item {display: flex;flex-direction: column;z-index: 1;position: relative;background-color: white;}#sk-container-id-4 div.sk-parallel-item:first-child::after {align-self: flex-end;width: 50%;}#sk-container-id-4 div.sk-parallel-item:last-child::after {align-self: flex-start;width: 50%;}#sk-container-id-4 div.sk-parallel-item:only-child::after {width: 0;}#sk-container-id-4 div.sk-dashed-wrapped {border: 1px dashed gray;margin: 0 0.4em 0.5em 0.4em;box-sizing: border-box;padding-bottom: 0.4em;background-color: white;}#sk-container-id-4 div.sk-label label {font-family: monospace;font-weight: bold;display: inline-block;line-height: 1.2em;}#sk-container-id-4 div.sk-label-container {text-align: center;}#sk-container-id-4 div.sk-container {/* jupyter's `normalize.less` sets `[hidden] { display: none; }` but bootstrap.min.css set `[hidden] { display: none !important; }` so we also need the `!important` here to be able to override the default hidden behavior on the sphinx rendered scikit-learn.org. See: https://github.com/scikit-learn/scikit-learn/issues/21755 */display: inline-block !important;position: relative;}#sk-container-id-4 div.sk-text-repr-fallback {display: none;}</style><div id=\"sk-container-id-4\" class=\"sk-top-container\"><div class=\"sk-text-repr-fallback\"><pre>SVC(kernel=&#x27;linear&#x27;)</pre><b>In a Jupyter environment, please rerun this cell to show the HTML representation or trust the notebook. <br />On GitHub, the HTML representation is unable to render, please try loading this page with nbviewer.org.</b></div><div class=\"sk-container\" hidden><div class=\"sk-item\"><div class=\"sk-estimator sk-toggleable\"><input class=\"sk-toggleable__control sk-hidden--visually\" id=\"sk-estimator-id-4\" type=\"checkbox\" checked><label for=\"sk-estimator-id-4\" class=\"sk-toggleable__label sk-toggleable__label-arrow\">SVC</label><div class=\"sk-toggleable__content\"><pre>SVC(kernel=&#x27;linear&#x27;)</pre></div></div></div></div></div>"
      ],
      "text/plain": [
       "SVC(kernel='linear')"
      ]
     },
     "execution_count": 101,
     "metadata": {},
     "output_type": "execute_result"
    }
   ],
   "source": [
    "svm.fit(tfidf_X_train,y_train)"
   ]
  },
  {
   "cell_type": "code",
   "execution_count": 102,
   "metadata": {},
   "outputs": [],
   "source": [
    "y_pred=svm.predict(tfidf_X_test)"
   ]
  },
  {
   "cell_type": "code",
   "execution_count": 103,
   "metadata": {},
   "outputs": [
    {
     "data": {
      "text/plain": [
       "0.8350694444444444"
      ]
     },
     "execution_count": 103,
     "metadata": {},
     "output_type": "execute_result"
    }
   ],
   "source": [
    "accuracy_score(y_test,y_pred)"
   ]
  },
  {
   "cell_type": "code",
   "execution_count": 313,
   "metadata": {},
   "outputs": [],
   "source": [
    "myresume = \"\"\"I am a data scientist specializing in machine\n",
    "learning, deep learning, and computer vision. With\n",
    "a strong background in mathematics, statistics,\n",
    "and programming, I am passionate about\n",
    "uncovering hidden patterns and insights in data.\n",
    "I have extensive experience in developing\n",
    "predictive models, implementing deep learning\n",
    "algorithms, and designing computer vision\n",
    "systems. My technical skills include proficiency in\n",
    "Python, Sklearn, TensorFlow, and PyTorch.\n",
    "What sets me apart is my ability to effectively\n",
    "communicate complex concepts to diverse\n",
    "audiences. I excel in translating technical insights\n",
    "into actionable recommendations that drive\n",
    "informed decision-making.\n",
    "If you're looking for a dedicated and versatile data\n",
    "scientist to collaborate on impactful projects, I am\n",
    "eager to contribute my expertise. Let's harness the\n",
    "power of data together to unlock new possibilities\n",
    "and shape a better future.\n",
    "Contact & Sources\n",
    "Email: 611noorsaeed@gmail.com\n",
    "Phone: 03442826192\n",
    "Github: https://github.com/611noorsaeed\n",
    "Linkdin: https://www.linkedin.com/in/noor-saeed654a23263/\n",
    "Blogs: https://medium.com/@611noorsaeed\n",
    "Youtube: Artificial Intelligence\n",
    "ABOUT ME\n",
    "WORK EXPERIENCE\n",
    "SKILLES\n",
    "NOOR SAEED\n",
    "LANGUAGES\n",
    "English\n",
    "Urdu\n",
    "Hindi\n",
    "I am a versatile data scientist with expertise in a wide\n",
    "range of projects, including machine learning,\n",
    "recommendation systems, deep learning, and computer\n",
    "vision. Throughout my career, I have successfully\n",
    "developed and deployed various machine learning models\n",
    "to solve complex problems and drive data-driven\n",
    "decision-making\n",
    "Machine Learnine\n",
    "Deep Learning\n",
    "Computer Vision\n",
    "Recommendation Systems\n",
    "Data Visualization\n",
    "Programming Languages (Python, SQL)\n",
    "Data Preprocessing and Feature Engineering\n",
    "Model Evaluation and Deployment\n",
    "Statistical Analysis\n",
    "Communication and Collaboration\n",
    "\"\"\""
   ]
  },
  {
   "cell_type": "code",
   "execution_count": 314,
   "metadata": {},
   "outputs": [
    {
     "data": {
      "text/plain": [
       "['data scientist special machin learn deep learn comput vision strong background mathemat statist program passion uncov hidden pattern insight data extens experi develop predict model implement deep learn algorithm design comput vision system technic skill includ profici python sklearn tensorflow pytorch set apart abil effect commun complex concept divers audienc excel translat technic insight action recommend drive inform decisionmak your look dedic versatil data scientist collabor impact project eager contribut expertis let har power data togeth unlock new possibl shape better futur contact sourc email 611noorsaeedgmailcom phone 03442826192 github linkdin blog youtub artifici intellig work experi skill noor saeed languag english urdu hindi versatil data scientist expertis wide rang project includ machin learn recommend system deep learn comput vision throughout career success develop deploy variou machin learn model solv complex problem drive datadriven decisionmak machin learnin deep learn comput vision recommend system data visual program languag python sql data preprocess featur engin model evalu deploy statist analysi commun collabor']"
      ]
     },
     "execution_count": 314,
     "metadata": {},
     "output_type": "execute_result"
    }
   ],
   "source": [
    "text=preprocess_text(myresume)\n",
    "[text]"
   ]
  },
  {
   "cell_type": "code",
   "execution_count": 106,
   "metadata": {},
   "outputs": [
    {
     "name": "stdout",
     "output_type": "stream",
     "text": [
      "True\n"
     ]
    }
   ],
   "source": [
    "print(hasattr(tfidf, 'vocabulary_'))\n"
   ]
  },
  {
   "cell_type": "code",
   "execution_count": 315,
   "metadata": {},
   "outputs": [],
   "source": [
    "test=tfidf.transform([text])"
   ]
  },
  {
   "cell_type": "code",
   "execution_count": 316,
   "metadata": {},
   "outputs": [],
   "source": [
    "test=test.toarray()"
   ]
  },
  {
   "cell_type": "code",
   "execution_count": 135,
   "metadata": {},
   "outputs": [
    {
     "data": {
      "text/plain": [
       "array([[0., 0., 0., ..., 0., 0., 0.]])"
      ]
     },
     "execution_count": 135,
     "metadata": {},
     "output_type": "execute_result"
    }
   ],
   "source": [
    "test"
   ]
  },
  {
   "cell_type": "code",
   "execution_count": 317,
   "metadata": {},
   "outputs": [
    {
     "data": {
      "text/plain": [
       "array([9])"
      ]
     },
     "execution_count": 317,
     "metadata": {},
     "output_type": "execute_result"
    }
   ],
   "source": [
    "rf.predict(test)"
   ]
  },
  {
   "cell_type": "code",
   "execution_count": 320,
   "metadata": {},
   "outputs": [],
   "source": [
    "x=svm.predict(test)"
   ]
  },
  {
   "cell_type": "code",
   "execution_count": 322,
   "metadata": {},
   "outputs": [
    {
     "data": {
      "text/plain": [
       "array([2])"
      ]
     },
     "execution_count": 322,
     "metadata": {},
     "output_type": "execute_result"
    }
   ],
   "source": [
    "svm.predict(test)"
   ]
  },
  {
   "cell_type": "code",
   "execution_count": 321,
   "metadata": {},
   "outputs": [
    {
     "data": {
      "text/plain": [
       "'AGRICULTURE'"
      ]
     },
     "execution_count": 321,
     "metadata": {},
     "output_type": "execute_result"
    }
   ],
   "source": [
    "labelencoder.inverse_transform(x)[0]"
   ]
  },
  {
   "cell_type": "code",
   "execution_count": 319,
   "metadata": {},
   "outputs": [
    {
     "name": "stdout",
     "output_type": "stream",
     "text": [
      "{'ACCOUNTANT': 0, 'ADVOCATE': 1, 'AGRICULTURE': 2, 'APPAREL': 3, 'ARTS': 4, 'AUTOMOBILE': 5, 'AVIATION': 6, 'BANKING': 7, 'BPO': 8, 'BUSINESS-DEVELOPMENT': 9, 'CHEF': 10, 'CONSTRUCTION': 11, 'CONSULTANT': 12, 'DESIGNER': 13, 'DIGITAL-MEDIA': 14, 'ENGINEERING': 15, 'FINANCE': 16, 'FITNESS': 17, 'HEALTHCARE': 18, 'HR': 19, 'INFORMATION-TECHNOLOGY': 20, 'PUBLIC-RELATIONS': 21, 'SALES': 22, 'TEACHER': 23}\n"
     ]
    }
   ],
   "source": [
    "classes = labelencoder.classes_\n",
    "label_mapping = {label: index for index, label in enumerate(classes)}\n",
    "print(label_mapping)"
   ]
  },
  {
   "cell_type": "code",
   "execution_count": 114,
   "metadata": {},
   "outputs": [],
   "source": [
    "import PyPDF2"
   ]
  },
  {
   "cell_type": "code",
   "execution_count": 190,
   "metadata": {},
   "outputs": [],
   "source": [
    "import numpy as np"
   ]
  },
  {
   "cell_type": "code",
   "execution_count": 202,
   "metadata": {},
   "outputs": [],
   "source": [
    "def pdf_to_text(filepath):\n",
    "    with open(filepath,\"rb\") as file:\n",
    "        reader=PyPDF2.PdfReader(file)\n",
    "        text=\"\"\n",
    "        for page in range(len(reader.pages)):\n",
    "            text+=reader.pages[page].extract_text()\n",
    "    return text        \n",
    "        "
   ]
  },
  {
   "cell_type": "code",
   "execution_count": 377,
   "metadata": {},
   "outputs": [],
   "source": [
    "def predict_role(filepath):\n",
    "     text=pdf_to_text(filepath)\n",
    "     text=preprocess_text(text)\n",
    "     text=[text]\n",
    "     text=tfidf.transform(text)\n",
    "     probabilities=rf.predict_proba(text)[0]\n",
    "     top_3_roles=np.argsort(probabilities)\n",
    "     top_3_roles=top_3_roles[-3:]\n",
    "     top_3_roles=np.reshape(top_3_roles,(3,1))\n",
    "     roles=[]\n",
    "     for i in top_3_roles:    \n",
    "        roles.append(labelencoder.inverse_transform(i))\n",
    "     roles=np.flip(roles)\n",
    "     return roles,probabilities"
   ]
  },
  {
   "cell_type": "code",
   "execution_count": 379,
   "metadata": {},
   "outputs": [
    {
     "data": {
      "text/plain": [
       "(array([['HR'],\n",
       "        ['ACCOUNTANT'],\n",
       "        ['AVIATION']], dtype=object),\n",
       " array([0.07, 0.03, 0.04, 0.  , 0.05, 0.05, 0.07, 0.  , 0.04, 0.06, 0.01,\n",
       "        0.03, 0.03, 0.03, 0.06, 0.05, 0.03, 0.04, 0.02, 0.16, 0.04, 0.05,\n",
       "        0.03, 0.01]))"
      ]
     },
     "execution_count": 379,
     "metadata": {},
     "output_type": "execute_result"
    }
   ],
   "source": [
    "predict_role(r\"C:\\Users\\hp\\Desktop\\pdf_paths\\W292.pdf\")"
   ]
  },
  {
   "cell_type": "code",
   "execution_count": 355,
   "metadata": {},
   "outputs": [],
   "source": [
    "def test(filepath):\n",
    "    text=pdf_to_text(filepath)\n",
    "    text = preprocess_text(text)\n",
    "    test = tfidf.transform([text])\n",
    "    x = rf.predict_proba(test).flatten() \n",
    "    top_3_roles=np.argsort(x)\n",
    "    top_3_roles=top_3_roles[-3:]\n",
    "    top_3_roles=np.reshape(top_3_roles,(3,1))\n",
    "    roles=[]\n",
    "    for i in top_3_roles:\n",
    "        roles.append(labelencoder.inverse_transform(i))\n",
    "    roles=np.flip(roles)\n",
    "    return roles,x\n",
    "  "
   ]
  },
  {
   "cell_type": "code",
   "execution_count": 366,
   "metadata": {},
   "outputs": [],
   "source": [
    "text=tfidf.transform([text])"
   ]
  },
  {
   "cell_type": "code",
   "execution_count": 368,
   "metadata": {},
   "outputs": [
    {
     "data": {
      "text/plain": [
       "array([0.01, 0.02, 0.05, 0.04, 0.03, 0.03, 0.04, 0.02, 0.02, 0.18, 0.01,\n",
       "       0.01, 0.03, 0.08, 0.04, 0.11, 0.06, 0.04, 0.05, 0.01, 0.08, 0.02,\n",
       "       0.01, 0.01])"
      ]
     },
     "execution_count": 368,
     "metadata": {},
     "output_type": "execute_result"
    }
   ],
   "source": [
    "x=rf.predict_proba(text)[0]\n",
    "x"
   ]
  },
  {
   "cell_type": "code",
   "execution_count": 370,
   "metadata": {},
   "outputs": [
    {
     "data": {
      "text/plain": [
       "array([0.01, 0.02, 0.05, 0.04, 0.03, 0.03, 0.04, 0.02, 0.02, 0.18, 0.01,\n",
       "       0.01, 0.03, 0.08, 0.04, 0.11, 0.06, 0.04, 0.05, 0.01, 0.08, 0.02,\n",
       "       0.01, 0.01])"
      ]
     },
     "execution_count": 370,
     "metadata": {},
     "output_type": "execute_result"
    }
   ],
   "source": [
    "x = rf.predict_proba(text).flatten()\n",
    "x"
   ]
  },
  {
   "cell_type": "code",
   "execution_count": 358,
   "metadata": {},
   "outputs": [
    {
     "data": {
      "text/plain": [
       "(array([['BANKING'],\n",
       "        ['PUBLIC-RELATIONS'],\n",
       "        ['AGRICULTURE']], dtype=object),\n",
       " array([0.04, 0.02, 0.08, 0.03, 0.04, 0.03, 0.01, 0.17, 0.01, 0.05, 0.01,\n",
       "        0.03, 0.05, 0.01, 0.06, 0.03, 0.08, 0.02, 0.02, 0.01, 0.01, 0.15,\n",
       "        0.03, 0.01]))"
      ]
     },
     "execution_count": 358,
     "metadata": {},
     "output_type": "execute_result"
    }
   ],
   "source": [
    "test(r\"c:\\Users\\hp\\Desktop\\pdf_paths\\finance-sample-resume.pdf\")"
   ]
  },
  {
   "cell_type": "code",
   "execution_count": 332,
   "metadata": {},
   "outputs": [
    {
     "data": {
      "text/plain": [
       "(array([['BUSINESS-DEVELOPMENT'],\n",
       "        ['AGRICULTURE'],\n",
       "        ['DESIGNER']], dtype=object),\n",
       " array([0.  , 0.02, 0.07, 0.02, 0.05, 0.02, 0.02, 0.01, 0.01, 0.48, 0.02,\n",
       "        0.03, 0.03, 0.05, 0.02, 0.01, 0.01, 0.05, 0.  , 0.  , 0.  , 0.03,\n",
       "        0.01, 0.04]))"
      ]
     },
     "execution_count": 332,
     "metadata": {},
     "output_type": "execute_result"
    }
   ],
   "source": [
    "predict_role(r\"C:\\Users\\hp\\Desktop\\pdf_paths\\finance-sample-resume.pdf\")"
   ]
  },
  {
   "cell_type": "code",
   "execution_count": 193,
   "metadata": {},
   "outputs": [],
   "source": [
    "import os\n",
    "file_paths=[]"
   ]
  },
  {
   "cell_type": "code",
   "execution_count": 195,
   "metadata": {},
   "outputs": [],
   "source": [
    "file_directory=r\"C:\\Users\\hp\\Desktop\\pdf_paths\"\n",
    "for file_name in os.listdir(file_directory):\n",
    "    file_paths.append(os.path.join(file_directory,file_name))\n",
    "    "
   ]
  },
  {
   "cell_type": "code",
   "execution_count": 302,
   "metadata": {},
   "outputs": [],
   "source": [
    "with open('label_encoder.pkl', 'wb') as file:\n",
    "    pickle.dump(labelencoder, file)"
   ]
  },
  {
   "cell_type": "code",
   "execution_count": 196,
   "metadata": {},
   "outputs": [
    {
     "data": {
      "text/plain": [
       "['C:\\\\Users\\\\hp\\\\Desktop\\\\pdf_paths\\\\9ffde1a4-8d10-44ca-af8d-7dd38fd0c50d (1).pdf',\n",
       " 'C:\\\\Users\\\\hp\\\\Desktop\\\\pdf_paths\\\\My_Resume.pdf']"
      ]
     },
     "execution_count": 196,
     "metadata": {},
     "output_type": "execute_result"
    }
   ],
   "source": [
    "file_paths"
   ]
  },
  {
   "cell_type": "code",
   "execution_count": 208,
   "metadata": {},
   "outputs": [],
   "source": [
    "def prompt_to_role(text):\n",
    "    text=[text]\n",
    "    text=tfidf.transform(text)\n",
    "    probabilities=rf.predict_proba(text)[0]\n",
    "    top_3_roles=np.argsort(probabilities)\n",
    "    top_3_roles=top_3_roles[-3:]\n",
    "    top_3_roles=np.reshape(top_3_roles,(3,1))\n",
    "    roles=[]\n",
    "    for i in top_3_roles:\n",
    "        roles.append(labelencoder.inverse_transform(i))\n",
    "    roles=np.flip(roles)\n",
    "    return roles\n",
    "    "
   ]
  },
  {
   "cell_type": "code",
   "execution_count": 211,
   "metadata": {},
   "outputs": [
    {
     "data": {
      "text/plain": [
       "array(['BUSINESS-DEVELOPMENT'], dtype=object)"
      ]
     },
     "execution_count": 211,
     "metadata": {},
     "output_type": "execute_result"
    }
   ],
   "source": [
    "prompt_to_role(\"IT role web development java node js \")[0]"
   ]
  },
  {
   "cell_type": "code",
   "execution_count": 247,
   "metadata": {},
   "outputs": [],
   "source": [
    "def folder_to_file(folder_path):\n",
    "    file_paths=[]\n",
    "    for file_path in os.listdir(folder_path):\n",
    "        file_paths.append(os.path.join(folder_path,file_path))\n",
    "    return file_paths  "
   ]
  },
  {
   "cell_type": "code",
   "execution_count": 274,
   "metadata": {},
   "outputs": [],
   "source": [
    "file_paths=folder_to_file(r\"C:\\Users\\hp\\Desktop\\pdf_paths\")"
   ]
  },
  {
   "cell_type": "code",
   "execution_count": 276,
   "metadata": {},
   "outputs": [
    {
     "name": "stdout",
     "output_type": "stream",
     "text": [
      "C:\\Users\\hp\\Desktop\\pdf_paths\\9ffde1a4-8d10-44ca-af8d-7dd38fd0c50d (1).pdf\n",
      "C:\\Users\\hp\\Desktop\\pdf_paths\\My_Resume.pdf\n"
     ]
    }
   ],
   "source": [
    "for file_path in file_paths:\n",
    "    print(file_path)"
   ]
  },
  {
   "cell_type": "code",
   "execution_count": 297,
   "metadata": {},
   "outputs": [],
   "source": [
    "def screen_resume(folder_path,role,top_n_candidates=5):\n",
    "    role=labelencoder.transform([role])\n",
    "    probabilities_map={}\n",
    "    file_paths=folder_to_file(folder_path)\n",
    "    for file_path in file_paths:\n",
    "      text=pdf_to_text(file_path)\n",
    "      text=preprocess_text(text)\n",
    "      text=[text]\n",
    "      text=tfidf.transform(text)\n",
    "      probabilities=rf.predict_proba(text)[0]\n",
    "      role_probability=probabilities[role]\n",
    "      probabilities_map[file_path]=role_probability\n",
    "    sorted_resumes=sorted(probabilities_map.items(),key=lambda item:item[1],reverse=True)\n",
    "    return sorted_resumes"
   ]
  },
  {
   "cell_type": "code",
   "execution_count": 348,
   "metadata": {},
   "outputs": [
    {
     "data": {
      "text/plain": [
       "[('c:\\\\Users\\\\hp\\\\Desktop\\\\pdf_paths\\\\Teacher Resume Samples .pdf',\n",
       "  array([0.51])),\n",
       " ('c:\\\\Users\\\\hp\\\\Desktop\\\\pdf_paths\\\\967061583013103-POOJA_DHYANI.pdf',\n",
       "  array([0.3])),\n",
       " ('c:\\\\Users\\\\hp\\\\Desktop\\\\pdf_paths\\\\deepa.pdf', array([0.3])),\n",
       " ('c:\\\\Users\\\\hp\\\\Desktop\\\\pdf_paths\\\\My_Resume.pdf', array([0.1])),\n",
       " ('c:\\\\Users\\\\hp\\\\Desktop\\\\pdf_paths\\\\Resume 2.pdf', array([0.09])),\n",
       " ('c:\\\\Users\\\\hp\\\\Desktop\\\\pdf_paths\\\\Resume 10.pdf', array([0.06])),\n",
       " ('c:\\\\Users\\\\hp\\\\Desktop\\\\pdf_paths\\\\Resume 12.pdf', array([0.06])),\n",
       " ('c:\\\\Users\\\\hp\\\\Desktop\\\\pdf_paths\\\\9ffde1a4-8d10-44ca-af8d-7dd38fd0c50d (1).pdf',\n",
       "  array([0.02])),\n",
       " ('c:\\\\Users\\\\hp\\\\Desktop\\\\pdf_paths\\\\Finance Sample Resume.pdf',\n",
       "  array([0.01])),\n",
       " ('c:\\\\Users\\\\hp\\\\Desktop\\\\pdf_paths\\\\finance-sample-resume.pdf',\n",
       "  array([0.01])),\n",
       " ('c:\\\\Users\\\\hp\\\\Desktop\\\\pdf_paths\\\\W292.pdf', array([0.01]))]"
      ]
     },
     "execution_count": 348,
     "metadata": {},
     "output_type": "execute_result"
    }
   ],
   "source": [
    "screen_resume(r\"c:\\Users\\hp\\Desktop\\pdf_paths\",\"TEACHER\",8)"
   ]
  },
  {
   "cell_type": "code",
   "execution_count": 264,
   "metadata": {},
   "outputs": [
    {
     "data": {
      "text/plain": [
       "<1x30548 sparse matrix of type '<class 'numpy.float64'>'\n",
       "\twith 232 stored elements in Compressed Sparse Row format>"
      ]
     },
     "execution_count": 264,
     "metadata": {},
     "output_type": "execute_result"
    }
   ],
   "source": [
    "text=pdf_to_text(r\"C:\\Users\\hp\\Desktop\\pdf_paths\\9ffde1a4-8d10-44ca-af8d-7dd38fd0c50d (1).pdf\")\n",
    "text=preprocess_text(text)\n",
    "text=[text]\n",
    "text=tfidf.transform(text)\n",
    "text"
   ]
  },
  {
   "cell_type": "code",
   "execution_count": 261,
   "metadata": {},
   "outputs": [
    {
     "data": {
      "text/plain": [
       "[8]"
      ]
     },
     "execution_count": 261,
     "metadata": {},
     "output_type": "execute_result"
    }
   ],
   "source": [
    "[labelencoder.transform([\"BPO\"])[0]]"
   ]
  },
  {
   "cell_type": "code",
   "execution_count": 241,
   "metadata": {},
   "outputs": [
    {
     "data": {
      "text/plain": [
       "array([0.01])"
      ]
     },
     "execution_count": 241,
     "metadata": {},
     "output_type": "execute_result"
    }
   ],
   "source": [
    "probabilities=rf.predict_proba(text)[0]\n",
    "role=labelencoder.transform([\"BPO\"])\n",
    "role_probability=probabilities[role]\n",
    "role_probability"
   ]
  },
  {
   "cell_type": "code",
   "execution_count": 298,
   "metadata": {},
   "outputs": [
    {
     "data": {
      "text/plain": [
       "[('C:\\\\Users\\\\hp\\\\Desktop\\\\pdf_paths\\\\My_Resume.pdf', array([0.17])),\n",
       " ('C:\\\\Users\\\\hp\\\\Desktop\\\\pdf_paths\\\\9ffde1a4-8d10-44ca-af8d-7dd38fd0c50d (1).pdf',\n",
       "  array([0.06]))]"
      ]
     },
     "execution_count": 298,
     "metadata": {},
     "output_type": "execute_result"
    }
   ],
   "source": [
    "screen_resume(r\"C:\\Users\\hp\\Desktop\\pdf_paths\",role=\"BUSINESS-DEVELOPMENT\",top_n_candidates=2)"
   ]
  },
  {
   "cell_type": "code",
   "execution_count": 213,
   "metadata": {},
   "outputs": [
    {
     "data": {
      "text/plain": [
       "array([8])"
      ]
     },
     "execution_count": 213,
     "metadata": {},
     "output_type": "execute_result"
    }
   ],
   "source": [
    "labelencoder.transform([\"BPO\"])"
   ]
  },
  {
   "cell_type": "code",
   "execution_count": 150,
   "metadata": {},
   "outputs": [
    {
     "data": {
      "text/plain": [
       "array([[0., 0., 0., ..., 0., 0., 0.]])"
      ]
     },
     "execution_count": 150,
     "metadata": {},
     "output_type": "execute_result"
    }
   ],
   "source": [
    "test"
   ]
  },
  {
   "cell_type": "code",
   "execution_count": 153,
   "metadata": {},
   "outputs": [
    {
     "data": {
      "text/plain": [
       "array([0.01, 0.02, 0.05, 0.04, 0.03, 0.03, 0.04, 0.02, 0.02, 0.18, 0.01,\n",
       "       0.01, 0.03, 0.08, 0.04, 0.11, 0.06, 0.04, 0.05, 0.01, 0.08, 0.02,\n",
       "       0.01, 0.01])"
      ]
     },
     "execution_count": 153,
     "metadata": {},
     "output_type": "execute_result"
    }
   ],
   "source": [
    "probabilities=rf.predict_proba(test)[0]\n",
    "probabilities"
   ]
  },
  {
   "cell_type": "code",
   "execution_count": 170,
   "metadata": {},
   "outputs": [],
   "source": [
    "top_3_roles=np.argsort(probabilities)\n",
    "top_3_roles=top_3_roles[-3:]\n",
    "top_3_roles=np.reshape(top_3_roles,(3,1))"
   ]
  },
  {
   "cell_type": "code",
   "execution_count": 171,
   "metadata": {},
   "outputs": [
    {
     "data": {
      "text/plain": [
       "array([[20],\n",
       "       [15],\n",
       "       [ 9]], dtype=int64)"
      ]
     },
     "execution_count": 171,
     "metadata": {},
     "output_type": "execute_result"
    }
   ],
   "source": [
    "top_3_roles"
   ]
  },
  {
   "cell_type": "code",
   "execution_count": 183,
   "metadata": {},
   "outputs": [
    {
     "data": {
      "text/plain": [
       "array([['BUSINESS-DEVELOPMENT'],\n",
       "       ['ENGINEERING'],\n",
       "       ['INFORMATION-TECHNOLOGY']], dtype=object)"
      ]
     },
     "execution_count": 183,
     "metadata": {},
     "output_type": "execute_result"
    }
   ],
   "source": [
    "roles=[]\n",
    "for i in top_3_roles:\n",
    "    roles.append(labelencoder.inverse_transform(i))\n",
    "roles=np.flip(roles)\n",
    "roles"
   ]
  },
  {
   "cell_type": "code",
   "execution_count": 299,
   "metadata": {},
   "outputs": [],
   "source": [
    "import pickle"
   ]
  },
  {
   "cell_type": "code",
   "execution_count": 300,
   "metadata": {},
   "outputs": [],
   "source": [
    "model_filename = 'resume.pkl'\n",
    "with open(model_filename, 'wb') as file:\n",
    "    pickle.dump(rf, file)"
   ]
  },
  {
   "cell_type": "code",
   "execution_count": 301,
   "metadata": {},
   "outputs": [],
   "source": [
    "with open('tfidf_vectorizer.pkl', 'wb') as file:\n",
    "    pickle.dump(tfidf, file)"
   ]
  },
  {
   "cell_type": "code",
   "execution_count": null,
   "metadata": {},
   "outputs": [],
   "source": []
  },
  {
   "cell_type": "code",
   "execution_count": null,
   "metadata": {},
   "outputs": [],
   "source": []
  },
  {
   "cell_type": "code",
   "execution_count": null,
   "metadata": {},
   "outputs": [],
   "source": []
  },
  {
   "cell_type": "markdown",
   "metadata": {},
   "source": [
    "DEEP LEARNING"
   ]
  },
  {
   "cell_type": "code",
   "execution_count": 366,
   "metadata": {},
   "outputs": [],
   "source": [
    "from tensorflow.keras.models import Sequential\n",
    "from tensorflow.keras.layers import Dense,LSTM,RNN\n",
    "from tensorflow.keras.preprocessing.text import Tokenizer\n",
    "from tensorflow.keras.preprocessing.sequence import pad_sequences"
   ]
  },
  {
   "cell_type": "code",
   "execution_count": 367,
   "metadata": {},
   "outputs": [],
   "source": [
    "tokenizer=Tokenizer()"
   ]
  },
  {
   "cell_type": "code",
   "execution_count": 369,
   "metadata": {},
   "outputs": [
    {
     "data": {
      "text/html": [
       "<div>\n",
       "<style scoped>\n",
       "    .dataframe tbody tr th:only-of-type {\n",
       "        vertical-align: middle;\n",
       "    }\n",
       "\n",
       "    .dataframe tbody tr th {\n",
       "        vertical-align: top;\n",
       "    }\n",
       "\n",
       "    .dataframe thead th {\n",
       "        text-align: right;\n",
       "    }\n",
       "</style>\n",
       "<table border=\"1\" class=\"dataframe\">\n",
       "  <thead>\n",
       "    <tr style=\"text-align: right;\">\n",
       "      <th></th>\n",
       "      <th>Resume_str</th>\n",
       "      <th>Category</th>\n",
       "    </tr>\n",
       "  </thead>\n",
       "  <tbody>\n",
       "    <tr>\n",
       "      <th>0</th>\n",
       "      <td>administratormarket associ administr summari d...</td>\n",
       "      <td>19</td>\n",
       "    </tr>\n",
       "    <tr>\n",
       "      <th>1</th>\n",
       "      <td>specialist us oper summari versatil media prof...</td>\n",
       "      <td>19</td>\n",
       "    </tr>\n",
       "    <tr>\n",
       "      <th>2</th>\n",
       "      <td>director summari 20 year experi recruit 15 plu...</td>\n",
       "      <td>19</td>\n",
       "    </tr>\n",
       "    <tr>\n",
       "      <th>3</th>\n",
       "      <td>specialist summari dedic driven dynam 20 year ...</td>\n",
       "      <td>19</td>\n",
       "    </tr>\n",
       "    <tr>\n",
       "      <th>4</th>\n",
       "      <td>manag skill highlight skill depart start three...</td>\n",
       "      <td>19</td>\n",
       "    </tr>\n",
       "  </tbody>\n",
       "</table>\n",
       "</div>"
      ],
      "text/plain": [
       "                                          Resume_str  Category\n",
       "0  administratormarket associ administr summari d...        19\n",
       "1  specialist us oper summari versatil media prof...        19\n",
       "2  director summari 20 year experi recruit 15 plu...        19\n",
       "3  specialist summari dedic driven dynam 20 year ...        19\n",
       "4  manag skill highlight skill depart start three...        19"
      ]
     },
     "execution_count": 369,
     "metadata": {},
     "output_type": "execute_result"
    }
   ],
   "source": [
    "df.head()"
   ]
  },
  {
   "cell_type": "code",
   "execution_count": 370,
   "metadata": {},
   "outputs": [],
   "source": [
    "tokenizer.fit_on_texts(df[\"Resume_str\"])"
   ]
  },
  {
   "cell_type": "code",
   "execution_count": 371,
   "metadata": {},
   "outputs": [
    {
     "data": {
      "text/plain": [
       "OrderedDict([('administratormarket', 2),\n",
       "             ('associ', 2716),\n",
       "             ('administr', 3884),\n",
       "             ('summari', 2053),\n",
       "             ('dedic', 442),\n",
       "             ('custom', 11536),\n",
       "             ('servic', 8947),\n",
       "             ('manag', 23887),\n",
       "             ('15', 410),\n",
       "             ('year', 3333),\n",
       "             ('experi', 5833),\n",
       "             ('hospit', 726),\n",
       "             ('respect', 214),\n",
       "             ('builder', 101),\n",
       "             ('leader', 1020),\n",
       "             ('customerfocu', 1),\n",
       "             ('tear', 15),\n",
       "             ('strike', 18),\n",
       "             ('instal', 1300),\n",
       "             ('share', 412),\n",
       "             ('enthusiast', 195),\n",
       "             ('commit', 309),\n",
       "             ('highlight', 1182),\n",
       "             ('focu', 604),\n",
       "             ('satisfact', 951),\n",
       "             ('team', 6960),\n",
       "             ('market', 6063),\n",
       "             ('navvi', 1),\n",
       "             ('conflict', 393),\n",
       "             ('resolut', 753),\n",
       "             ('techniqu', 816),\n",
       "             ('train', 7134),\n",
       "             ('develop', 11912),\n",
       "             ('skill', 8721),\n",
       "             ('multitask', 444),\n",
       "             ('client', 6309),\n",
       "             ('relat', 3352),\n",
       "             ('specialist', 1327),\n",
       "             ('accomplish', 1548),\n",
       "             ('missouri', 51),\n",
       "             ('dot', 47),\n",
       "             ('supervisor', 1069),\n",
       "             ('mortif', 2),\n",
       "             ('terrifi', 1),\n",
       "             ('ing', 9),\n",
       "             ('loyalti', 145),\n",
       "             ('segment', 166),\n",
       "             ('hilton', 21),\n",
       "             ('worldwid', 91),\n",
       "             ('gener', 3087),\n",
       "             ('trainer', 393),\n",
       "             ('cross', 297),\n",
       "             ('server', 1400),\n",
       "             ('system', 7147),\n",
       "             ('micro', 62),\n",
       "             ('opera', 11),\n",
       "             ('pu', 1),\n",
       "             ('fidel', 25),\n",
       "             ('reserv', 187),\n",
       "             ('holder', 81),\n",
       "             ('complet', 2778),\n",
       "             ('cour', 3),\n",
       "             ('seminari', 6),\n",
       "             ('sale', 8386),\n",
       "             ('strateg', 1801),\n",
       "             ('inventor', 42),\n",
       "             ('control', 2815),\n",
       "             ('loss', 376),\n",
       "             ('prevent', 568),\n",
       "             ('safeti', 1961),\n",
       "             ('time', 3612),\n",
       "             ('leadership', 2324),\n",
       "             ('perform', 5316),\n",
       "             ('assess', 1240),\n",
       "             ('dec', 223),\n",
       "             ('2013', 1473),\n",
       "             ('current', 3009),\n",
       "             ('compani', 15587),\n",
       "             ('name', 11789),\n",
       "             ('－', 6890),\n",
       "             ('citi', 15108),\n",
       "             ('state', 16713),\n",
       "             ('help', 1836),\n",
       "             ('polici', 2529),\n",
       "             ('direct', 2240),\n",
       "             ('coordin', 3570),\n",
       "             ('activ', 3344),\n",
       "             ('employ', 934),\n",
       "             ('compen', 32),\n",
       "             ('labor', 480),\n",
       "             ('benefit', 1180),\n",
       "             ('prepar', 4533),\n",
       "             ('separ', 120),\n",
       "             ('notic', 98),\n",
       "             ('document', 3301),\n",
       "             ('keep', 781),\n",
       "             ('record', 2789),\n",
       "             ('plan', 6404),\n",
       "             ('particip', 1302),\n",
       "             ('insur', 1257),\n",
       "             ('pension', 35),\n",
       "             ('personnel', 1593),\n",
       "             ('transact', 857),\n",
       "             ('fire', 265),\n",
       "             ('promot', 2150),\n",
       "             ('transfer', 442),\n",
       "             ('review', 2630),\n",
       "             ('termin', 311),\n",
       "             ('statist', 476),\n",
       "             ('govern', 843),\n",
       "             ('report', 6134),\n",
       "             ('advi', 5),\n",
       "             ('appropri', 1295),\n",
       "             ('issu', 2675),\n",
       "             ('administ', 537),\n",
       "             ('program', 5479),\n",
       "             ('life', 523),\n",
       "             ('health', 2005),\n",
       "             ('dental', 160),\n",
       "             ('vacat', 65),\n",
       "             ('sick', 37),\n",
       "             ('leav', 241),\n",
       "             ('absenc', 122),\n",
       "             ('assist', 5921),\n",
       "             ('design', 5905),\n",
       "             ('creat', 3887),\n",
       "             ('collat', 19),\n",
       "             ('meet', 3331),\n",
       "             ('trade', 532),\n",
       "             ('show', 506),\n",
       "             ('execut', 3276),\n",
       "             ('hou', 2),\n",
       "             ('adverti', 12),\n",
       "             ('consist', 1228),\n",
       "             ('print', 601),\n",
       "             ('media', 2212),\n",
       "             ('piec', 100),\n",
       "             ('launch', 520),\n",
       "             ('webster', 32),\n",
       "             ('2', 786),\n",
       "             ('month', 1099),\n",
       "             ('offici', 171),\n",
       "             ('page', 330),\n",
       "             ('facebook', 155),\n",
       "             ('facilit', 1042),\n",
       "             ('interact', 827),\n",
       "             ('analyz', 1634),\n",
       "             ('rate', 677),\n",
       "             ('featur', 416),\n",
       "             ('competitor', 116),\n",
       "             ('evalu', 1589),\n",
       "             ('effect', 2498),\n",
       "             ('advanc', 924),\n",
       "             ('medic', 1713),\n",
       "             ('claim', 683),\n",
       "             ('analyst', 804),\n",
       "             ('may', 1414),\n",
       "             ('2012', 1320),\n",
       "             ('bill', 1285),\n",
       "             ('accuraci', 716),\n",
       "             ('treatment', 435),\n",
       "             ('test', 2663),\n",
       "             ('stay', 176),\n",
       "             ('prior', 277),\n",
       "             ('sanction', 11),\n",
       "             ('interpret', 384),\n",
       "             ('code', 891),\n",
       "             ('icon', 19),\n",
       "             ('cut', 248),\n",
       "             ('terminolog', 112),\n",
       "             ('commonli', 6),\n",
       "             ('use', 4421),\n",
       "             ('fill', 166),\n",
       "             ('fulli', 102),\n",
       "             ('understand', 908),\n",
       "             ('paperwork', 264),\n",
       "             ('submit', 389),\n",
       "             ('healthcar', 809),\n",
       "             ('provid', 6103),\n",
       "             ('requir', 2897),\n",
       "             ('organiz', 1202),\n",
       "             ('analyt', 907),\n",
       "             ('well', 2375),\n",
       "             ('comput', 2035),\n",
       "             ('knowledg', 2306),\n",
       "             ('procedur', 2808),\n",
       "             ('standard', 2004),\n",
       "             ('data', 3720),\n",
       "             ('analysi', 3016),\n",
       "             ('law', 806),\n",
       "             ('regard', 1054),\n",
       "             ('run', 456),\n",
       "             ('2010', 1105),\n",
       "             ('duti', 1246),\n",
       "             ('includ', 6118),\n",
       "             ('limit', 437),\n",
       "             ('fidget', 2),\n",
       "             ('financ', 1706),\n",
       "             ('account', 8522),\n",
       "             ('human', 1583),\n",
       "             ('resourc', 2369),\n",
       "             ('patrol', 63),\n",
       "             ('purcha', 11),\n",
       "             ('establish', 1664),\n",
       "             ('maintain', 5877),\n",
       "             ('close', 1653),\n",
       "             ('work', 8677),\n",
       "             ('relationship', 2084),\n",
       "             ('depart', 2837),\n",
       "             ('hotel', 303),\n",
       "             ('ensur', 3918),\n",
       "             ('maximum', 96),\n",
       "             ('oper', 6036),\n",
       "             ('product', 7332),\n",
       "             ('moral', 91),\n",
       "             ('guest', 708),\n",
       "             ('handl', 1563),\n",
       "             ('daili', 2375),\n",
       "             ('directli', 396),\n",
       "             ('corpor', 1496),\n",
       "             ('offic', 4989),\n",
       "             ('hire', 1517),\n",
       "             ('staff', 3929),\n",
       "             ('over', 8),\n",
       "             ('object', 1013),\n",
       "             ('goal', 2073),\n",
       "             ('emphasi', 149),\n",
       "             ('high', 2435),\n",
       "             ('public', 2245),\n",
       "             ('local', 1029),\n",
       "             ('busi', 7990),\n",
       "             ('chamber', 133),\n",
       "             ('commerc', 144),\n",
       "             ('support', 5088),\n",
       "             ('juli', 595),\n",
       "             ('2007', 915),\n",
       "             ('variou', 1996),\n",
       "             ('head', 362),\n",
       "             ('front', 334),\n",
       "             ('friendli', 366),\n",
       "             ('effici', 1612),\n",
       "             ('ensu', 2),\n",
       "             ('swift', 27),\n",
       "             ('preserv', 73),\n",
       "             ('compli', 186),\n",
       "             ('exemplifi', 12),\n",
       "             ('secondtonon', 2),\n",
       "             ('deliveri', 1173),\n",
       "             ('potenti', 647),\n",
       "             ('2004', 580),\n",
       "             ('owner', 452),\n",
       "             ('partner', 957),\n",
       "             ('2001', 406),\n",
       "             ('price', 899),\n",
       "             ('integr', 1197),\n",
       "             ('aug', 242),\n",
       "             ('1999', 339),\n",
       "             ('educ', 5050),\n",
       "             ('na', 69),\n",
       "             ('jefferson', 13),\n",
       "             ('colleg', 1856),\n",
       "             ('school', 2672),\n",
       "             ('diploma', 578),\n",
       "             ('rep', 175),\n",
       "             ('studi', 982),\n",
       "             ('1998', 260),\n",
       "             ('saint', 54),\n",
       "             ('genev', 6),\n",
       "             ('senior', 1543),\n",
       "             ('award', 1530),\n",
       "             ('american', 512),\n",
       "             ('shrub', 6),\n",
       "             ('scholarship', 235),\n",
       "             ('layout', 304),\n",
       "             ('poster', 58),\n",
       "             ('present', 2491),\n",
       "             ('us', 982),\n",
       "             ('versatil', 77),\n",
       "             ('profess', 43),\n",
       "             ('background', 648),\n",
       "             ('commun', 6761),\n",
       "             ('technolog', 2479),\n",
       "             ('092015', 58),\n",
       "             ('group', 1667),\n",
       "             ('chang', 1733),\n",
       "             ('outrag', 2),\n",
       "             ('job', 1337),\n",
       "             ('aid', 583),\n",
       "             ('comprehen', 6),\n",
       "             ('new', 6333),\n",
       "             ('contractor', 519),\n",
       "             ('unit', 1629),\n",
       "             ('post', 555),\n",
       "             ('old', 126),\n",
       "             ('pend', 51),\n",
       "             ('hold', 148),\n",
       "             ('draft', 415),\n",
       "             ('posit', 2235),\n",
       "             ('union', 193),\n",
       "             ('hour', 683),\n",
       "             ('nonunion', 9),\n",
       "             ('salari', 218),\n",
       "             ('check', 1141),\n",
       "             ('drug', 199),\n",
       "             ('screen', 335),\n",
       "             ('conduct', 1927),\n",
       "             ('monthli', 1850),\n",
       "             ('bring', 270),\n",
       "             ('across', 689),\n",
       "             ('serv', 1550),\n",
       "             ('link', 121),\n",
       "             ('vendor', 1513),\n",
       "             ('question', 683),\n",
       "             ('resolv', 1525),\n",
       "             ('systemrel', 1),\n",
       "             ('realiz', 54),\n",
       "             ('process', 6816),\n",
       "             ('improv', 3005),\n",
       "             ('feedback', 442),\n",
       "             ('key', 1369),\n",
       "             ('merit', 80),\n",
       "             ('initi', 1574),\n",
       "             ('success', 2204),\n",
       "             ('brand', 1054),\n",
       "             ('sharepoint', 254),\n",
       "             ('site', 1241),\n",
       "             ('project', 7922),\n",
       "             ('rfirfp', 1),\n",
       "             ('012014', 185),\n",
       "             ('052015', 69),\n",
       "             ('cook', 622),\n",
       "             ('articl', 218),\n",
       "             ('updat', 1243),\n",
       "             ('graphic', 623),\n",
       "             ('visual', 635),\n",
       "             ('research', 2509),\n",
       "             ('stori', 213),\n",
       "             ('edit', 543),\n",
       "             ('content', 1006),\n",
       "             ('quarterli', 545),\n",
       "             ('publish', 388),\n",
       "             ('newslett', 264),\n",
       "             ('intern', 2964),\n",
       "             ('extern', 743),\n",
       "             ('event', 2401),\n",
       "             ('collabor', 1310),\n",
       "             ('determin', 1120),\n",
       "             ('need', 3663),\n",
       "             ('materi', 2491),\n",
       "             ('web', 975),\n",
       "             ('digit', 920),\n",
       "             ('entrust', 19),\n",
       "             ('lead', 2187),\n",
       "             ('softwar', 2575),\n",
       "             ('asset', 701),\n",
       "             ('tool', 1358),\n",
       "             ('toolkit', 6),\n",
       "             ('tradeshow', 47),\n",
       "             ('calendar', 253),\n",
       "             ('approv', 683),\n",
       "             ('ligament', 1),\n",
       "             ('guidelin', 584),\n",
       "             ('mysikorski', 1),\n",
       "             ('solut', 1498),\n",
       "             ('mitig', 136),\n",
       "             ('board', 869),\n",
       "             ('produc', 871),\n",
       "             ('video', 551),\n",
       "             ('annual', 1471),\n",
       "             ('hand', 372),\n",
       "             ('102012', 59),\n",
       "             ('coordinatormarket', 2),\n",
       "             ('preston', 2),\n",
       "             ('postshow', 5),\n",
       "             ('campaign', 912),\n",
       "             ('order', 2738),\n",
       "             ('modifi', 216),\n",
       "             ('increa', 15),\n",
       "             ('awar', 445),\n",
       "             ('supervi', 11),\n",
       "             ('distribut', 834),\n",
       "             ('qualiti', 3266),\n",
       "             ('output', 90),\n",
       "             ('brochur', 181),\n",
       "             ('crack', 10),\n",
       "             ('appoint', 484),\n",
       "             ('092009', 58),\n",
       "             ('teller', 170),\n",
       "             ('receiv', 1905),\n",
       "             ('audit', 1494),\n",
       "             ('score', 206),\n",
       "             ('100', 516),\n",
       "             ('machin', 540),\n",
       "             ('tiller', 1),\n",
       "             ('varieti', 543),\n",
       "             ('retail', 1014),\n",
       "             ('avail', 547),\n",
       "             ('credit', 1321),\n",
       "             ('option', 204),\n",
       "             ('met', 539),\n",
       "             ('exceed', 610),\n",
       "             ('ident', 76),\n",
       "             ('·', 561),\n",
       "             ('implement', 4371),\n",
       "             ('achiev', 1753),\n",
       "             ('organ', 3672),\n",
       "             ('sponsor', 152),\n",
       "             ('camp', 165),\n",
       "             ('result', 1806),\n",
       "             ('coach', 1176),\n",
       "             ('peer', 187),\n",
       "             ('proper', 891),\n",
       "             ('flow', 662),\n",
       "             ('util', 1382),\n",
       "             ('sell', 602),\n",
       "             ('refer', 361),\n",
       "             ('base', 1916),\n",
       "             ('individu', 1140),\n",
       "             ('grand', 76),\n",
       "             ('open', 880),\n",
       "             ('branch', 534),\n",
       "             ('locat', 858),\n",
       "             ('strengthen', 120),\n",
       "             ('affin', 10),\n",
       "             ('2014', 1530),\n",
       "             ('exchang', 423),\n",
       "             ('rou', 2),\n",
       "             ('connecticut', 33),\n",
       "             ('creativ', 1088),\n",
       "             ('corridor', 13),\n",
       "             ('growth', 828),\n",
       "             ('industri', 1287),\n",
       "             ('opportun', 1131),\n",
       "             ('come', 151),\n",
       "             ('panel', 118),\n",
       "             ('address', 614),\n",
       "             ('topic', 139),\n",
       "             ('answer', 870),\n",
       "             ('session', 375),\n",
       "             ('approxim', 174),\n",
       "             ('110', 34),\n",
       "             ('attend', 904),\n",
       "             ('follow', 1170),\n",
       "             ('forum', 62),\n",
       "             ('invit', 99),\n",
       "             ('engag', 912),\n",
       "             ('network', 2502),\n",
       "             ('conver', 2),\n",
       "             ('postev', 12),\n",
       "             ('recept', 138),\n",
       "             ('master', 998),\n",
       "             ('art', 2102),\n",
       "             ('sacr', 3),\n",
       "             ('heart', 80),\n",
       "             ('univ', 32),\n",
       "             ('bachelor', 1592),\n",
       "             ('western', 97),\n",
       "             ('ador', 1),\n",
       "             ('photoshop', 331),\n",
       "             ('add', 94),\n",
       "             ('care', 1853),\n",
       "             ('final', 376),\n",
       "             ('pro', 197),\n",
       "             ('illustr', 307),\n",
       "             ('innov', 589),\n",
       "             ('lot', 88),\n",
       "             ('note', 303),\n",
       "             ('microsoft', 2812),\n",
       "             ('recruit', 1684),\n",
       "             ('director', 1828),\n",
       "             ('20', 567),\n",
       "             ('plu', 166),\n",
       "             ('5', 656),\n",
       "             ('mainten', 1794),\n",
       "             ('4', 546),\n",
       "             ('environ', 1705),\n",
       "             ('fmlaeeoflsa', 1),\n",
       "             ('kansa', 41),\n",
       "             ('institut', 773),\n",
       "             ('outcom', 211),\n",
       "             ('membership', 226),\n",
       "             ('accolad', 12),\n",
       "             ('member', 3031),\n",
       "             ('sham', 3),\n",
       "             ('friend', 53),\n",
       "             ('presid', 579),\n",
       "             ('honor', 584),\n",
       "             ('roll', 159),\n",
       "             ('1997', 260),\n",
       "             ('mean', 64),\n",
       "             ('student', 3425),\n",
       "             ('liaison', 581),\n",
       "             ('topeka', 7),\n",
       "             ('mothertomoth', 1),\n",
       "             ('feder', 672),\n",
       "             ('sever', 580),\n",
       "             ('nomin', 53),\n",
       "             ('recognit', 284),\n",
       "             ('outstand', 478),\n",
       "             ('travel', 732),\n",
       "             ('tourism', 85),\n",
       "             ('ashor', 5),\n",
       "             ('kahhr', 1),\n",
       "             ('addit', 1197),\n",
       "             ('inform', 4839),\n",
       "             ('instrument', 345),\n",
       "             ('adjut', 8),\n",
       "             ('retent', 399),\n",
       "             ('involv', 763),\n",
       "             ('survey', 435),\n",
       "             ('retain', 162),\n",
       "             ('qualifi', 279),\n",
       "             ('talent', 428),\n",
       "             ('ask', 100),\n",
       "             ('secur', 1906),\n",
       "             ('joint', 135),\n",
       "             ('forc', 354),\n",
       "             ('headquart', 100),\n",
       "             ('clearanc', 159),\n",
       "             ('held', 164),\n",
       "             ('per', 906),\n",
       "             ('li', 4),\n",
       "             ('vacanc', 51),\n",
       "             ('abl', 567),\n",
       "             ('less', 139),\n",
       "             ('man', 58),\n",
       "             ('inexperienc', 2),\n",
       "             ('respon', 27),\n",
       "             ('databa', 16),\n",
       "             ('last', 145),\n",
       "             ('three', 410),\n",
       "             ('cultiv', 201),\n",
       "             ('renew', 155),\n",
       "             ('contact', 881),\n",
       "             ('fate', 1),\n",
       "             ('usag', 135),\n",
       "             ('budget', 3432),\n",
       "             ('turnov', 108),\n",
       "             ('field', 1052),\n",
       "             ('took', 258),\n",
       "             ('respond', 582),\n",
       "             ('request', 1279),\n",
       "             ('facil', 1188),\n",
       "             ('along', 282),\n",
       "             ('reduc', 844),\n",
       "             ('contract', 1753),\n",
       "             ('cost', 2074),\n",
       "             ('nur', 1),\n",
       "             ('uniqu', 243),\n",
       "             ('pay', 293),\n",
       "             ('structur', 580),\n",
       "             ('pen', 15),\n",
       "             ('continu', 878),\n",
       "             ('think', 359),\n",
       "             ('outsidethebox', 1),\n",
       "             ('face', 132),\n",
       "             ('firm', 319),\n",
       "             ('092016', 35),\n",
       "             ('agenc', 1040),\n",
       "             ('oversea', 79),\n",
       "             ('take', 717),\n",
       "             ('role', 633),\n",
       "             ('clinic', 700),\n",
       "             ('physician', 409),\n",
       "             ('author', 543),\n",
       "             ('handbook', 87),\n",
       "             ('reach', 224),\n",
       "             ('depth', 47),\n",
       "             ('legal', 643),\n",
       "             ('daytoday', 203),\n",
       "             ('risk', 831),\n",
       "             ('regulatori', 392),\n",
       "             ('complianc', 1600),\n",
       "             ('evacu', 27),\n",
       "             ('recommend', 1048),\n",
       "             ('day', 1122),\n",
       "             ('042009', 27),\n",
       "             ('sero', 2),\n",
       "             ('automat', 64),\n",
       "             ('statewid', 50),\n",
       "             ('classifi', 94),\n",
       "             ('employeesposit', 1),\n",
       "             ('nonroutin', 16),\n",
       "             ('aro', 2),\n",
       "             ('ardor', 1),\n",
       "             ('disapprov', 4),\n",
       "             ('wagesalari', 3),\n",
       "             ('reestablish', 9),\n",
       "             ('minimum', 85),\n",
       "             ('signif', 2),\n",
       "             ('descript', 184),\n",
       "             ('classif', 78),\n",
       "             ('pursu', 120),\n",
       "             ('wage', 93),\n",
       "             ('rang', 448),\n",
       "             ('compar', 129),\n",
       "             ('exist', 745),\n",
       "             ('consult', 1822),\n",
       "             ('tag', 81),\n",
       "             ('militari', 375),\n",
       "             ('technic', 2225),\n",
       "             ('common', 159),\n",
       "             ('sen', 1),\n",
       "             ('guidanc', 317),\n",
       "             ('properli', 311),\n",
       "             ('sensit', 151),\n",
       "             ('complex', 754),\n",
       "             ('ever', 52),\n",
       "             ('idea', 286),\n",
       "             ('stand', 125),\n",
       "             ('repr', 9),\n",
       "             ('negoti', 1243),\n",
       "             ('gape', 1),\n",
       "             ('190th', 1),\n",
       "             ('102003', 17),\n",
       "             ('062006', 55),\n",
       "             ('agent', 402),\n",
       "             ('placement', 267),\n",
       "             ('cover', 241),\n",
       "             ('950', 4),\n",
       "             ('set', 1552),\n",
       "             ('manpow', 64),\n",
       "             ('career', 700),\n",
       "             ('statutori', 65),\n",
       "             ('regul', 868),\n",
       "             ('person', 1966),\n",
       "             ('midlevel', 14),\n",
       "             ('031996', 12),\n",
       "             ('022000', 17),\n",
       "             ('ground', 203),\n",
       "             ('monitor', 2160),\n",
       "             ('sourc', 621),\n",
       "             ('apprai', 6),\n",
       "             ('correct', 814),\n",
       "             ('action', 759),\n",
       "             ('one', 822),\n",
       "             ('orsha', 2),\n",
       "             ('etc', 808),\n",
       "             ('degr', 3),\n",
       "             ('052005', 41),\n",
       "             ('35', 223),\n",
       "             ('earn', 261),\n",
       "             ('62', 14),\n",
       "             ('smelter', 2),\n",
       "             ('scienc', 2144),\n",
       "             ('052000', 23),\n",
       "             ('40', 465),\n",
       "             ('ambassador', 62),\n",
       "             ('legisl', 61),\n",
       "             ('desktop', 307),\n",
       "             ('felt', 8),\n",
       "             ('worker', 579),\n",
       "             ('pagemak', 10),\n",
       "             ('back', 289),\n",
       "             ('morel', 1),\n",
       "             ('suit', 684),\n",
       "             ('harvard', 16),\n",
       "             ('access', 1120),\n",
       "             ('expel', 5),\n",
       "             ('ms', 1208),\n",
       "             ('word', 1314),\n",
       "             ('quart', 1),\n",
       "             ('express', 132),\n",
       "             ('quatr', 1),\n",
       "             ('wordperfect', 16),\n",
       "             ('driven', 274),\n",
       "             ('dynam', 377),\n",
       "             ('experti', 6),\n",
       "             ('motiv', 891),\n",
       "             ('contribut', 611),\n",
       "             ('solid', 231),\n",
       "             ('player', 589),\n",
       "             ('prove', 50),\n",
       "             ('abil', 1586),\n",
       "             ('type', 641),\n",
       "             ('50', 340),\n",
       "             ('wm', 18),\n",
       "             ('touch', 59),\n",
       "             ('outlook', 699),\n",
       "             ('powerpoint', 819),\n",
       "             ('telephon', 730),\n",
       "             ('inquiri', 581),\n",
       "             ('excel', 3762),\n",
       "             ('call', 1914),\n",
       "             ('primari', 351),\n",
       "             ('bound', 7),\n",
       "             ('outbound', 155),\n",
       "             ('center', 1525),\n",
       "             ('oral', 235),\n",
       "             ('written', 701),\n",
       "             ('season', 402),\n",
       "             ('oct', 202),\n",
       "             ('2008', 935),\n",
       "             ('adventur', 18),\n",
       "             ('peoplelin', 1),\n",
       "             ('email', 815),\n",
       "             ('point', 837),\n",
       "             ('practic', 1228),\n",
       "             ('routin', 285),\n",
       "             ('casework', 13),\n",
       "             ('trace', 38),\n",
       "             ('via', 486),\n",
       "             ('case', 842),\n",
       "             ('detail', 1361),\n",
       "             ('complaint', 590),\n",
       "             ('comment', 68),\n",
       "             ('taken', 92),\n",
       "             ('feb', 156),\n",
       "             ('file', 1774),\n",
       "             ('method', 754),\n",
       "             ('short', 188),\n",
       "             ('term', 401),\n",
       "             ('disabl', 207),\n",
       "             ('global', 714),\n",
       "             ('clientel', 146),\n",
       "             ('peopl', 630),\n",
       "             ('internalextern', 25),\n",
       "             ('queri', 169),\n",
       "             ('centr', 30),\n",
       "             ('shift', 419),\n",
       "             ('2003', 563),\n",
       "             ('dispatch', 121),\n",
       "             ('san', 308),\n",
       "             ('antonio', 28),\n",
       "             ('surround', 64),\n",
       "             ('area', 1998),\n",
       "             ('adher', 436),\n",
       "             ('book', 494),\n",
       "             ('weekend', 63),\n",
       "             ('certif', 1753),\n",
       "             ('texa', 303),\n",
       "             ('exten', 5),\n",
       "             ('start', 335),\n",
       "             ('statu', 658),\n",
       "             ('fmlaadaeeowc', 6),\n",
       "             ('mediat', 122),\n",
       "             ('advocaci', 75),\n",
       "             ('unemploy', 68),\n",
       "             ('orient', 760),\n",
       "             ('programproject', 15),\n",
       "             ('applic', 2582),\n",
       "             ('lawton', 5),\n",
       "             ('patch', 99),\n",
       "             ('wrong', 11),\n",
       "             ('visit', 337),\n",
       "             ('jan', 648),\n",
       "             ('2015', 1252),\n",
       "             ('function', 1773),\n",
       "             ('recycl', 36),\n",
       "             ('fulfil', 200),\n",
       "             ('foster', 280),\n",
       "             ('associateori', 1),\n",
       "             ('cultur', 388),\n",
       "             ('empha', 1),\n",
       "             ('confirm', 160),\n",
       "             ('statut', 17),\n",
       "             ('identifi', 1689),\n",
       "             ('concern', 537),\n",
       "             ('level', 2074),\n",
       "             ('creation', 424),\n",
       "             ('region', 808),\n",
       "             ('feel', 87),\n",
       "             ('like', 287),\n",
       "             ('part', 809),\n",
       "             ('essenti', 107),\n",
       "             ('top', 689),\n",
       "             ('nation', 1258),\n",
       "             ('vision', 265),\n",
       "             ('ltd', 60),\n",
       "             ('401k', 63),\n",
       "             ('expect', 533),\n",
       "             ('46', 23),\n",
       "             ('first', 1008),\n",
       "             ('within', 1703),\n",
       "             ('barter', 3),\n",
       "             ('sign', 260),\n",
       "             ('effort', 626),\n",
       "             ('220', 7),\n",
       "             ('full', 487),\n",
       "             ('27', 49),\n",
       "             ('convert', 101),\n",
       "             ('grow', 304),\n",
       "             ('peak', 66),\n",
       "             ('temporari', 109),\n",
       "             ('volum', 447),\n",
       "             ('1800', 9),\n",
       "             ('total', 466),\n",
       "             ('deliv', 939),\n",
       "             ('3', 710),\n",
       "             ('million', 867),\n",
       "             ('black', 97),\n",
       "             ('friday', 16),\n",
       "             ('christma', 24),\n",
       "             ('influenc', 192),\n",
       "             ('strategi', 2387),\n",
       "             ('tactic', 196),\n",
       "             ('multipl', 1333),\n",
       "             ('exempt', 58),\n",
       "             ('tend', 24),\n",
       "             ('accur', 1270),\n",
       "             ('throughout', 590),\n",
       "             ('demonstr', 780),\n",
       "             ('lunat', 1),\n",
       "             ('core', 716),\n",
       "             ('valu', 548),\n",
       "             ('workforc', 169),\n",
       "             ('line', 1117),\n",
       "             ('polic', 136),\n",
       "             ('best', 876),\n",
       "             ('deal', 263),\n",
       "             ('poor', 19),\n",
       "             ('behavior', 587),\n",
       "             ('champion', 77),\n",
       "             ('fun', 66),\n",
       "             ('unapproach', 1),\n",
       "             ('confidenti', 321),\n",
       "             ('accord', 946),\n",
       "             ('look', 267),\n",
       "             ('way', 320),\n",
       "             ('innat', 11),\n",
       "             ('measur', 591),\n",
       "             ('bottom', 65),\n",
       "             ('impact', 351),\n",
       "             ('sole', 66),\n",
       "             ('situat', 337),\n",
       "             ('nonprofit', 151),\n",
       "             ('184', 2),\n",
       "             ('play', 298),\n",
       "             ('merg', 29),\n",
       "             ('five', 235),\n",
       "             ('privat', 391),\n",
       "             ('packag', 676),\n",
       "             ('incent', 146),\n",
       "             ('teamworkopendoor', 3),\n",
       "             ('conduc', 38),\n",
       "             ('dialogu', 22),\n",
       "             ('85', 64),\n",
       "             ('offer', 869),\n",
       "             ('nonexempt', 23),\n",
       "             ('co', 103),\n",
       "             ('wrote', 373),\n",
       "             ('manual', 444),\n",
       "             ('disciplinari', 112),\n",
       "             ('introduc', 237),\n",
       "             ('formal', 125),\n",
       "             ('categori', 162),\n",
       "             ('interview', 897),\n",
       "             ('construct', 1929),\n",
       "             ('pictur', 68),\n",
       "             ('largest', 180),\n",
       "             ('smallpox', 1),\n",
       "             ('discount', 73),\n",
       "             ('broad', 118),\n",
       "             ('overseen', 15),\n",
       "             ('interven', 9),\n",
       "             ('workshop', 344),\n",
       "             ('oneonon', 93),\n",
       "             ('sound', 254),\n",
       "             ('deci', 8),\n",
       "             ('12', 382),\n",
       "             ('sq', 25),\n",
       "             ('ft', 38),\n",
       "             ('400', 106),\n",
       "             ('moraleboost', 4),\n",
       "             ('special', 1691),\n",
       "             ('picnic', 5),\n",
       "             ('banquet', 164),\n",
       "             ('investig', 676),\n",
       "             ('sexual', 67),\n",
       "             ('harass', 32),\n",
       "             ('discrimin', 11),\n",
       "             ('inappropri', 6),\n",
       "             ('either', 49),\n",
       "             ('878', 1),\n",
       "             ('among', 206),\n",
       "             ('mount', 74),\n",
       "             ('vernon', 3),\n",
       "             ('nazaren', 7),\n",
       "             ('affili', 492),\n",
       "             ('societi', 487),\n",
       "             ('muskingum', 2),\n",
       "             ('valley', 96),\n",
       "             ('make', 1409),\n",
       "             ('win', 149),\n",
       "             ('problem', 2140),\n",
       "             ('solv', 873),\n",
       "             ('profit', 880),\n",
       "             ('quantit', 88),\n",
       "             ('tearworn', 1),\n",
       "             ('hr', 1400),\n",
       "             ('generalist', 117),\n",
       "             ('focus', 565),\n",
       "             ('priorit', 305),\n",
       "             ('task', 1196),\n",
       "             ('simultan', 181),\n",
       "             ('seek', 406),\n",
       "             ('increas', 2109),\n",
       "             ('respons', 4330),\n",
       "             ('profici', 1127),\n",
       "             ('spreadsheet', 515),\n",
       "             ('meticul', 106),\n",
       "             ('attent', 458),\n",
       "             ('resultsori', 165),\n",
       "             ('selfdirect', 84),\n",
       "             ('profession', 4345),\n",
       "             ('matur', 67),\n",
       "             ('selfstart', 118),\n",
       "             ('112008', 23),\n",
       "             ('082014', 127),\n",
       "             ('visa', 73),\n",
       "             ('nonimmigr', 6),\n",
       "             ('faculti', 240),\n",
       "             ('enhanc', 690),\n",
       "             ('30', 482),\n",
       "             ('percent', 60),\n",
       "             ('petit', 14),\n",
       "             ('usci', 7),\n",
       "             ('adjud', 25),\n",
       "             ('electron', 766),\n",
       "             ('databas', 1960),\n",
       "             ('univers', 3509),\n",
       "             ('mandat', 45),\n",
       "             ('usdh', 1),\n",
       "             ('usdo', 1),\n",
       "             ('biannual', 11),\n",
       "             ('websit', 881),\n",
       "             ('advic', 115),\n",
       "             ('scholar', 87),\n",
       "             ('thoroughli', 61),\n",
       "             ('employe', 4166),\n",
       "             ('highli', 680),\n",
       "             ('altern', 178),\n",
       "             ('overse', 557),\n",
       "             ('j1', 2),\n",
       "             ('visitor', 194),\n",
       "             ('foreign', 213),\n",
       "             ('obtain', 674),\n",
       "             ('h1b', 8),\n",
       "             ('supervis', 1832),\n",
       "             ('volunt', 729),\n",
       "             ('coordinatorintern', 1),\n",
       "             ('advisorsecretari', 1),\n",
       "             ('agenda', 100),\n",
       "             ('suppli', 1264),\n",
       "             ('followup', 208),\n",
       "             ('confer', 811),\n",
       "             ('receptionist', 194),\n",
       "             ('greet', 470),\n",
       "             ('inperson', 83),\n",
       "             ('paper', 293),\n",
       "             ('room', 480),\n",
       "             ('correspond', 489),\n",
       "             ('dictat', 46),\n",
       "             ('handwritten', 12),\n",
       "             ('dispers', 36),\n",
       "             ('incom', 706),\n",
       "             ('mail', 671),\n",
       "             ('recipi', 213),\n",
       "             ('made', 557),\n",
       "             ('copi', 276),\n",
       "             ('sent', 133),\n",
       "             ('fax', 342),\n",
       "             ('outgo', 196),\n",
       "             ('scan', 225),\n",
       "             ('equip', 2472),\n",
       "             ('82013', 2),\n",
       "             ('aba', 14),\n",
       "             ('paraleg', 75),\n",
       "             ('ba', 170),\n",
       "             ('justic', 146),\n",
       "             ('montclair', 16),\n",
       "             ('062002', 24),\n",
       "             ('psycholog', 388),\n",
       "             ('essex', 16),\n",
       "             ('counti', 443),\n",
       "             ('shrm', 44),\n",
       "             ('62013', 2),\n",
       "             ('critic', 620),\n",
       "             ('select', 929),\n",
       "             ('compet', 305),\n",
       "             ('york', 234),\n",
       "             ('recogn', 379),\n",
       "             ('citizenship', 21),\n",
       "             ('immigr', 32),\n",
       "             ('advisor', 257),\n",
       "             ('nafsa', 1),\n",
       "             ('act', 614),\n",
       "             ('2000', 669),\n",
       "             ('calm', 117),\n",
       "             ('approach', 436),\n",
       "             ('place', 487),\n",
       "             ('number', 603),\n",
       "             ('style', 300),\n",
       "             ('njit', 4),\n",
       "             ('overal', 586),\n",
       "             ('lisa', 7),\n",
       "             ('often', 51),\n",
       "             ('beyond', 87),\n",
       "             ('contractu', 72),\n",
       "             ('could', 114),\n",
       "             ...])"
      ]
     },
     "execution_count": 371,
     "metadata": {},
     "output_type": "execute_result"
    }
   ],
   "source": [
    "tokenizer.word_counts"
   ]
  },
  {
   "cell_type": "code",
   "execution_count": 377,
   "metadata": {},
   "outputs": [],
   "source": [
    "sequences=tokenizer.texts_to_sequences(df[\"Resume_str\"])"
   ]
  },
  {
   "cell_type": "code",
   "execution_count": 379,
   "metadata": {},
   "outputs": [
    {
     "data": {
      "text/plain": [
       "2484"
      ]
     },
     "execution_count": 379,
     "metadata": {},
     "output_type": "execute_result"
    }
   ],
   "source": [
    "len(sequences)"
   ]
  },
  {
   "cell_type": "code",
   "execution_count": 381,
   "metadata": {},
   "outputs": [
    {
     "data": {
      "text/plain": [
       "513"
      ]
     },
     "execution_count": 381,
     "metadata": {},
     "output_type": "execute_result"
    }
   ],
   "source": [
    "len(sequences[0])"
   ]
  },
  {
   "cell_type": "code",
   "execution_count": 385,
   "metadata": {},
   "outputs": [],
   "source": [
    "sequences=pad_sequences(sequences,padding=\"post\")"
   ]
  },
  {
   "cell_type": "code",
   "execution_count": 386,
   "metadata": {},
   "outputs": [
    {
     "data": {
      "text/plain": [
       "array([[14007,    83,    50, ...,     0,     0,     0],\n",
       "       [  216,   297,    29, ...,     0,     0,     0],\n",
       "       [  149,   127,   546, ...,     0,     0,     0],\n",
       "       ...,\n",
       "       [ 7637,  3694,   712, ...,     0,     0,     0],\n",
       "       [   34,   149,    38, ...,     0,     0,     0],\n",
       "       [ 6933,   791,    43, ...,     0,     0,     0]])"
      ]
     },
     "execution_count": 386,
     "metadata": {},
     "output_type": "execute_result"
    }
   ],
   "source": [
    "sequences"
   ]
  },
  {
   "cell_type": "code",
   "execution_count": 387,
   "metadata": {},
   "outputs": [
    {
     "data": {
      "text/plain": [
       "3610"
      ]
     },
     "execution_count": 387,
     "metadata": {},
     "output_type": "execute_result"
    }
   ],
   "source": [
    "len(sequences[0])"
   ]
  },
  {
   "cell_type": "code",
   "execution_count": null,
   "metadata": {},
   "outputs": [],
   "source": []
  }
 ],
 "metadata": {
  "kernelspec": {
   "display_name": "Python 3",
   "language": "python",
   "name": "python3"
  },
  "language_info": {
   "codemirror_mode": {
    "name": "ipython",
    "version": 3
   },
   "file_extension": ".py",
   "mimetype": "text/x-python",
   "name": "python",
   "nbconvert_exporter": "python",
   "pygments_lexer": "ipython3",
   "version": "3.11.5"
  }
 },
 "nbformat": 4,
 "nbformat_minor": 2
}
